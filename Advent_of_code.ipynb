{
 "cells": [
  {
   "cell_type": "markdown",
   "metadata": {},
   "source": [
    "**Day 1**"
   ]
  },
  {
   "cell_type": "code",
   "execution_count": 109,
   "metadata": {},
   "outputs": [
    {
     "name": "stdout",
     "output_type": "stream",
     "text": [
      "Part One: 1722\n",
      "Part Two: 1748\n"
     ]
    }
   ],
   "source": [
    "depths = []\n",
    "\n",
    "input_file = open(\"inputs/input.txt\", \"r\")\n",
    "lines = input_file.readlines()\n",
    "\n",
    "for line in lines:\n",
    "    depths.append(int(line))\n",
    "\n",
    "counter = 0\n",
    "\n",
    "for i in range(1, len(depths)):\n",
    "    if depths[i] > depths[i-1]:\n",
    "        counter += 1\n",
    "\n",
    "print(\"Part One:\", counter)\n",
    "\n",
    "counter2 = 0\n",
    "\n",
    "for i in range(3, len(depths)):\n",
    "    if depths[i] > depths[i-3]:\n",
    "        counter2 += 1\n",
    "\n",
    "print(\"Part Two:\", counter2)"
   ]
  },
  {
   "cell_type": "markdown",
   "metadata": {},
   "source": [
    "**Day 2**"
   ]
  },
  {
   "cell_type": "code",
   "execution_count": 110,
   "metadata": {},
   "outputs": [
    {
     "name": "stdout",
     "output_type": "stream",
     "text": [
      "{'forward': 1968, 'down': 2018, 'up': 955}\n",
      "Part One: 2091984\n",
      "{'horizontal': 1968, 'aim': 1063, 'depth': 1060092}\n",
      "Part Two: 2086261056\n"
     ]
    }
   ],
   "source": [
    "input_file = open(\"inputs/input2.txt\", \"r\")\n",
    "lines = input_file.readlines()\n",
    "\n",
    "depths_dict = {\n",
    "    \"forward\": 0,\n",
    "    \"down\": 0,\n",
    "    \"up\": 0\n",
    "}\n",
    "\n",
    "for line in lines:\n",
    "    line_arr = line.split(\" \")\n",
    "    depths_dict[line_arr[0]] += int(line_arr[1])\n",
    "\n",
    "print(depths_dict)\n",
    "print(\"Part One:\", depths_dict[\"forward\"] * (depths_dict[\"down\"] - depths_dict[\"up\"]))\n",
    "\n",
    "aims_dict = {\n",
    "    \"horizontal\": 0,\n",
    "    \"aim\": 0,\n",
    "    \"depth\": 0\n",
    "}\n",
    "\n",
    "for line in lines:\n",
    "    line_arr = line.split(\" \")\n",
    "    line_arr[1] = int(line_arr[1])\n",
    "    if line_arr[0] == \"forward\":\n",
    "        aims_dict[\"horizontal\"] += line_arr[1]\n",
    "        aims_dict[\"depth\"] += (aims_dict[\"aim\"] * line_arr[1])\n",
    "    elif line_arr[0] == \"down\":\n",
    "        aims_dict[\"aim\"] += line_arr[1]\n",
    "    else:\n",
    "        aims_dict[\"aim\"] -= line_arr[1]\n",
    "\n",
    "print(aims_dict)\n",
    "print(\"Part Two:\", aims_dict[\"horizontal\"] * aims_dict[\"depth\"])"
   ]
  },
  {
   "cell_type": "markdown",
   "metadata": {},
   "source": [
    "**Day 3**"
   ]
  },
  {
   "cell_type": "code",
   "execution_count": 111,
   "metadata": {},
   "outputs": [
    {
     "name": "stdout",
     "output_type": "stream",
     "text": [
      "Gamma = 101110111100; Epsilon = 010001000011\n",
      "Part One: 3277364\n",
      "Oxygen = 110111111111; CO2 = 011001000001\n",
      "Part Two: 5736383\n"
     ]
    }
   ],
   "source": [
    "with open(\"inputs/input3.txt\") as input:\n",
    "    lines = input.read().splitlines()\n",
    "\n",
    "lst = [0 for i in range(len(lines[0]))]\n",
    "\n",
    "for line in lines:\n",
    "    for i in range(len(line)):\n",
    "        if line[i] == \"0\":\n",
    "            lst[i] -= 1\n",
    "        else:\n",
    "            lst[i] += 1\n",
    "\n",
    "gamma = \"\"\n",
    "epsilon = \"\"\n",
    "\n",
    "for num in lst:\n",
    "    if num < 0:\n",
    "        gamma += \"0\"\n",
    "        epsilon += \"1\"\n",
    "    else:\n",
    "        gamma += \"1\"\n",
    "        epsilon += \"0\"\n",
    "\n",
    "print(f\"Gamma = {gamma}; Epsilon = {epsilon}\")\n",
    "print(\"Part One:\", (int(gamma, 2) * int(epsilon, 2)))\n",
    "\n",
    "\n",
    "def find_most_common(lines, bitty):\n",
    "\n",
    "    for i in range(len(lines[0])):\n",
    "\n",
    "        if len(lines) == 1:\n",
    "            return lines\n",
    "\n",
    "        # counting the most common value\n",
    "        score = 0\n",
    "        for line in lines:\n",
    "            if line[i] == \"0\":\n",
    "                score -= 1\n",
    "            else:\n",
    "                score += 1\n",
    "\n",
    "        # creating a new list with most common values only\n",
    "        if score < 0:\n",
    "            lines = [x for x in lines if x[i] == bitty]\n",
    "        else:\n",
    "            lines = [x for x in lines if x[i] != bitty]\n",
    "\n",
    "    return lines\n",
    "\n",
    "\n",
    "oxy = find_most_common(lines, \"0\")[0]\n",
    "co2 = find_most_common(lines, \"1\")[0]\n",
    "\n",
    "print(f\"Oxygen = {oxy}; CO2 = {co2}\")\n",
    "print(\"Part Two:\", int(oxy, 2) * int(co2, 2))"
   ]
  },
  {
   "cell_type": "markdown",
   "metadata": {},
   "source": [
    "**Day 4**"
   ]
  },
  {
   "cell_type": "code",
   "execution_count": 112,
   "metadata": {},
   "outputs": [
    {
     "name": "stdout",
     "output_type": "stream",
     "text": [
      "Row completed! Drawn number is 28. The sum of all unmarked numbers is 810. \n",
      "Part One: 22680\n",
      "Final board has had a winner! Drawn number is 94. The sum of all unmarked numbers is 172. \n",
      "Part Two: 16168\n"
     ]
    }
   ],
   "source": [
    "input_file = open(\"inputs/input4.txt\", \"r\")\n",
    "lines = input_file.readlines()\n",
    "\n",
    "drawn_nums = [int(x) for x in lines[0].split(\",\")]\n",
    "\n",
    "bingo_boards = []\n",
    "counter = -1\n",
    "\n",
    "for line in lines[1:]:\n",
    "    if len(line) < 5:\n",
    "        bingo_boards.append([])\n",
    "        counter += 1\n",
    "    else:\n",
    "        row = [int(x) for x in line.split()]\n",
    "        bingo_boards[counter].append(row)\n",
    "\n",
    "for board in bingo_boards:\n",
    "    board.append([0])\n",
    "    board[5].append(False)\n",
    "    for row in board[:5]:\n",
    "        board[5][0] += sum(row)\n",
    "\n",
    "\n",
    "def day4(bingo_boards, drawn_nums):\n",
    "\n",
    "    no_winners_yet = True\n",
    "    num_of_winners = 0\n",
    "\n",
    "    for num in drawn_nums:\n",
    "        for board in bingo_boards:\n",
    "            for row in board[:5]:\n",
    "                for i in range(5):\n",
    "                    if row[i] == num:\n",
    "                        row[i] = -1000\n",
    "                        board[5][0] -= num\n",
    "            for row in board[:5]:\n",
    "                if sum(row) == -5000:\n",
    "                    if no_winners_yet == True:\n",
    "                        print(f\"Row completed! Drawn number is {num}. The sum of all unmarked numbers is {board[5][0]}. \\nPart One: {num * board[5][0]}\")\n",
    "                    no_winners_yet = False\n",
    "                    if board[5][1] == False:\n",
    "                        num_of_winners += 1\n",
    "                    board[5][1] = True\n",
    "                    if num_of_winners == len(bingo_boards):\n",
    "                        print(f\"Final board has had a winner! Drawn number is {num}. The sum of all unmarked numbers is {board[5][0]}. \\nPart Two: {num * board[5][0]}\")\n",
    "                        return None\n",
    "\n",
    "            for i in range(5):\n",
    "                column_sum = 0\n",
    "                for row in board[:5]:\n",
    "                    column_sum += row[i]\n",
    "                if column_sum == -5000:\n",
    "                    if no_winners_yet == True:\n",
    "                        print(f\"Column completed! Drawn number is {num}. The sum of all unmarked numbers is {board[5][0]}. \\nPart One: {num * board[5][0]}\")\n",
    "                    no_winners_yet = False\n",
    "                    if board[5][1] == False:\n",
    "                        num_of_winners += 1\n",
    "                    board[5][1] = True\n",
    "                    if num_of_winners == len(bingo_boards):\n",
    "                        print(f\"Final board has had a winner! Drawn number is {num}. The sum of all unmarked numbers is {board[5][0]}. \\nPart Two: {num * board[5][0]}\")\n",
    "                        return None\n",
    "\n",
    "day4(bingo_boards, drawn_nums)"
   ]
  },
  {
   "cell_type": "markdown",
   "metadata": {},
   "source": [
    "**Day 5**"
   ]
  },
  {
   "cell_type": "code",
   "execution_count": 113,
   "metadata": {},
   "outputs": [
    {
     "name": "stdout",
     "output_type": "stream",
     "text": [
      "Part One: the number of points where at least two lines overlap (horizontal or vertical only) = 5585\n",
      "Part Two: the number of points where at least two lines overlap (all lines) = 17193\n"
     ]
    }
   ],
   "source": [
    "import re\n",
    "\n",
    "with open(\"inputs/input5.txt\") as input:\n",
    "    lines = [list(map(int, re.split(r'\\D+', line)))\n",
    "             for line in input.read().splitlines()]\n",
    "\n",
    "matrix = [[0 for x in range(1000)] for y in range(1000)]\n",
    "\n",
    "two_or_more_counter = 0\n",
    "\n",
    "horizontal_vertical_only = list(\n",
    "    filter(lambda nums: nums[0] == nums[2] or nums[1] == nums[3], lines))\n",
    "\n",
    "for line in horizontal_vertical_only:\n",
    "    for y in range(min(line[1], line[3]), max(line[1], line[3])+1):\n",
    "        for x in range(min(line[0], line[2]), max(line[0], line[2])+1):\n",
    "            matrix[y][x] += 1\n",
    "\n",
    "for row in matrix:\n",
    "    for n in row:\n",
    "        if n >= 2:\n",
    "            two_or_more_counter += 1\n",
    "\n",
    "print(f\"Part One: the number of points where at least two lines overlap (horizontal or vertical only) = {two_or_more_counter}\")\n",
    "\n",
    "diagonal_only = list(\n",
    "    filter(lambda nums: nums[0] != nums[2] and nums[1] != nums[3], lines))\n",
    "\n",
    "for line in diagonal_only:\n",
    "    y = line[1]\n",
    "    x = line[0]\n",
    "    for diff in range(abs(line[1] - line[3]) + 1):\n",
    "        matrix[y][x] += 1\n",
    "        y = y + (1 if line[3] > line[1] else -1)\n",
    "        x = x + (1 if line[2] > line[0] else -1)\n",
    "\n",
    "two_or_more_counter = 0\n",
    "\n",
    "for row in matrix:\n",
    "    for n in row:\n",
    "        if n >= 2:\n",
    "            two_or_more_counter += 1\n",
    "\n",
    "print(f\"Part Two: the number of points where at least two lines overlap (all lines) = {two_or_more_counter}\")"
   ]
  },
  {
   "cell_type": "markdown",
   "metadata": {},
   "source": [
    "**Day 6**"
   ]
  },
  {
   "cell_type": "code",
   "execution_count": 114,
   "metadata": {},
   "outputs": [
    {
     "name": "stdout",
     "output_type": "stream",
     "text": [
      "Part One: 380243\n",
      "Part Two: 1708791884591\n"
     ]
    }
   ],
   "source": [
    "with open(\"inputs/input6.txt\") as input:\n",
    "    timers = [int(timer) for timer in input.read().split(\",\")]\n",
    "\n",
    "def count_fish(days):\n",
    "    fish_list = [0 for i in range(9)]\n",
    "\n",
    "    for timer in timers:\n",
    "        fish_list[timer] += 1\n",
    "\n",
    "    for i in range(days):\n",
    "        new_fish = fish_list[0]\n",
    "        for j in range(8):\n",
    "            fish_list[j] = fish_list[j+1]\n",
    "        fish_list[8] = new_fish\n",
    "        fish_list[6] += new_fish\n",
    "    return sum(fish_list)\n",
    "\n",
    "print(\"Part One:\", count_fish(80))\n",
    "print(\"Part Two:\", count_fish(256))"
   ]
  },
  {
   "cell_type": "markdown",
   "metadata": {},
   "source": [
    "Solution without rotation (via Reddit)"
   ]
  },
  {
   "cell_type": "code",
   "execution_count": 115,
   "metadata": {},
   "outputs": [],
   "source": [
    "with open(\"inputs/input6.txt\") as input:\n",
    "    timers = [int(timer) for timer in input.read().split(\",\")]\n",
    "\n",
    "# list to store the number of fish with the same timers\n",
    "timers_list = [0]*9\n",
    "\n",
    "# populating the list with values from the given input\n",
    "for timer in timers:\n",
    "    timers_list[timer] += 1\n",
    "\n",
    "for day in range(256):\n",
    "    # every day, the number of fishes with timers at 0 (day%9) is added to the number of fishes with timers at 7 ((day+7)%9)\n",
    "    timers_list[(day+7) % 9] += timers_list[day % 9]"
   ]
  },
  {
   "cell_type": "markdown",
   "metadata": {},
   "source": [
    "**Day 7**"
   ]
  },
  {
   "cell_type": "code",
   "execution_count": 116,
   "metadata": {},
   "outputs": [
    {
     "name": "stdout",
     "output_type": "stream",
     "text": [
      "Part One: 356992\n",
      "Part Two: 101268110\n"
     ]
    }
   ],
   "source": [
    "with open(\"inputs/input7.txt\") as input:\n",
    "    positions = [int(position) for position in input.read().split(\",\")]\n",
    "\n",
    "minsum = float(\"inf\")\n",
    "\n",
    "for i in range(min(positions), max(positions)+1):\n",
    "    current = 0\n",
    "    for position in positions:\n",
    "        current += abs(position - i)\n",
    "    if current < minsum:\n",
    "        minsum = current\n",
    "    if current > minsum:\n",
    "        break\n",
    "\n",
    "print(\"Part One:\", minsum)\n",
    "\n",
    "minsum = float(\"inf\")\n",
    "\n",
    "for i in range(min(positions), max(positions)+1):\n",
    "    current = 0\n",
    "    for position in positions:\n",
    "        current += (abs(position-i) + abs(position-i)**2)//2\n",
    "    if current < minsum:\n",
    "        minsum = current\n",
    "    if current > minsum:\n",
    "        break\n",
    "\n",
    "print(\"Part Two:\", minsum)"
   ]
  },
  {
   "cell_type": "markdown",
   "metadata": {},
   "source": [
    "**Day 8**\n",
    "\n",
    "Part One"
   ]
  },
  {
   "cell_type": "code",
   "execution_count": 117,
   "metadata": {},
   "outputs": [
    {
     "name": "stdout",
     "output_type": "stream",
     "text": [
      "Part One: 383\n"
     ]
    }
   ],
   "source": [
    "output_lengths = []\n",
    "\n",
    "with open(\"inputs/input8.txt\") as input:\n",
    "    for line in input.readlines():\n",
    "        output_lengths.extend([len(x) for x in line.split(\"|\")[1].split()])\n",
    "\n",
    "unique_lengths = list(filter(lambda x: (x >= 2 and x < 5)\n",
    "                      or (x == 7), output_lengths))\n",
    "\n",
    "print(\"Part One:\", len(unique_lengths))"
   ]
  },
  {
   "cell_type": "markdown",
   "metadata": {},
   "source": [
    "Part Two"
   ]
  },
  {
   "cell_type": "code",
   "execution_count": 118,
   "metadata": {},
   "outputs": [
    {
     "name": "stdout",
     "output_type": "stream",
     "text": [
      "Part Two: 998900\n"
     ]
    }
   ],
   "source": [
    "displays = []\n",
    "\n",
    "with open(\"inputs/input8.txt\") as input:\n",
    "    for line in input.readlines():\n",
    "        halves = line.split(\"|\")\n",
    "        display = []\n",
    "        for half in halves:\n",
    "            display.extend(half.split())\n",
    "        displays.append(display)\n",
    "\n",
    "total_counter = 0\n",
    "\n",
    "for display in displays:\n",
    "\n",
    "    sets = [set() for i in range(10)]\n",
    "\n",
    "    for word in display[:10]:\n",
    "        if len(word) == 2:\n",
    "            sets[1] = set(word)  # confirmed number 1\n",
    "        elif len(word) == 3:\n",
    "            sets[7] = set(word)  # confirmed number 7\n",
    "        elif len(word) == 4:\n",
    "            sets[4] = set(word)  # confirmed number 4\n",
    "        elif len(word) == 7:\n",
    "            sets[8] = set(word)  # confirmed number 8\n",
    "\n",
    "    for word in display[:10]:\n",
    "        if len(word) == 6:\n",
    "            if len(set(word) - sets[1]) == 5:\n",
    "                sets[6] = set(word)  # confirmed number 6\n",
    "            elif (len(set(word) - (sets[4] | sets[7]))) == 1:\n",
    "                sets[9] = set(word)  # confirmed number 9\n",
    "            else:\n",
    "                sets[0] = set(word)  # confirmed number 0\n",
    "\n",
    "    for word in display[:10]:\n",
    "        if len(word) == 5:\n",
    "            if len(sets[6] - set(word)) == 1:\n",
    "                sets[5] = set(word)  # confirmed number 5\n",
    "            elif len(set(word) - sets[1]) == 3:\n",
    "                sets[3] = set(word)  # confirmed number 3\n",
    "            else:\n",
    "                sets[2] = set(word)  # confirmed number 2\n",
    "\n",
    "    # all numbers confirmed!\n",
    "\n",
    "    numstr = \"\"\n",
    "\n",
    "    for word in display[10:]:\n",
    "        for i in range(len(sets)):\n",
    "            if sets[i] == set(word):\n",
    "                numstr += str(i)\n",
    "\n",
    "    total_counter += int(numstr)\n",
    "\n",
    "print(\"Part Two:\", total_counter)"
   ]
  },
  {
   "cell_type": "markdown",
   "metadata": {},
   "source": [
    "**Day 9**"
   ]
  },
  {
   "cell_type": "code",
   "execution_count": 119,
   "metadata": {},
   "outputs": [
    {
     "name": "stdout",
     "output_type": "stream",
     "text": [
      "Part One: 572\n",
      "Part Two: 847044\n"
     ]
    }
   ],
   "source": [
    "with open(\"inputs/input9.txt\") as input:\n",
    "    heightmap = [list(map(int, list(\"9\"+line+\"9\")))\n",
    "                 for line in input.read().splitlines()]\n",
    "\n",
    "heightmap = [[9]*len(heightmap[0])] + heightmap + [[9]*len(heightmap[0])]\n",
    "\n",
    "low_point_sum = 0\n",
    "\n",
    "for y in range(1, len(heightmap)-1):\n",
    "    for x in range(1, len(heightmap[0])-1):\n",
    "        if (heightmap[y][x] < heightmap[y][x-1]) and (heightmap[y][x] < heightmap[y][x+1]) and (heightmap[y][x] < heightmap[y-1][x]) and (heightmap[y][x] < heightmap[y+1][x]):\n",
    "            low_point_sum += heightmap[y][x]+1\n",
    "\n",
    "print(\"Part One:\", low_point_sum)\n",
    "\n",
    "\n",
    "basins = []\n",
    "\n",
    "for y in range(1, len(heightmap)-1):\n",
    "    for x in range(1, len(heightmap[0])-1):\n",
    "        if heightmap[y][x] < 9:\n",
    "            queue = []\n",
    "            queue.append((y, x))\n",
    "            basin = 0\n",
    "            while queue:\n",
    "                y1, x1 = queue.pop(0)\n",
    "                basin += 1\n",
    "                heightmap[y1][x1] = 10\n",
    "                if heightmap[y1][x1-1] < 9:\n",
    "                    if (y1, x1-1) not in queue:\n",
    "                        queue.append((y1, x1-1))\n",
    "                if heightmap[y1][x1+1] < 9:\n",
    "                    if (y1, x1+1) not in queue:\n",
    "                        queue.append((y1, x1+1))\n",
    "                if heightmap[y1-1][x1] < 9:\n",
    "                    if (y1-1, x1) not in queue:\n",
    "                        queue.append((y1-1, x1))\n",
    "                if heightmap[y1+1][x1] < 9:\n",
    "                    if (y1+1, x1) not in queue:\n",
    "                        queue.append((y1+1, x1))\n",
    "            basins.append(basin)\n",
    "\n",
    "basins.sort()\n",
    "\n",
    "b1, b2, b3 = basins[-3:]\n",
    "\n",
    "print(\"Part Two:\", b1*b2*b3)"
   ]
  },
  {
   "cell_type": "markdown",
   "metadata": {},
   "source": [
    "**Day 10**"
   ]
  },
  {
   "cell_type": "code",
   "execution_count": 120,
   "metadata": {},
   "outputs": [
    {
     "name": "stdout",
     "output_type": "stream",
     "text": [
      "Part One: 343863\n",
      "Part Two: 2924734236\n"
     ]
    }
   ],
   "source": [
    "with open(\"inputs/input10.txt\") as input:\n",
    "    lines = input.read().splitlines()\n",
    "\n",
    "points = {\n",
    "    \")\": 3,\n",
    "    \"]\": 57,\n",
    "    \"}\": 1197,\n",
    "    \">\": 25137\n",
    "}\n",
    "\n",
    "cleaned_lines = []\n",
    "\n",
    "total_score = 0\n",
    "\n",
    "for line in lines:\n",
    "    while \"()\" in line or \"[]\" in line or \"{}\" in line or \"<>\" in line:\n",
    "        if \"()\" in line:\n",
    "            line = line.replace(\"()\", \"\")\n",
    "        if \"[]\" in line:\n",
    "            line = line.replace(\"[]\", \"\")\n",
    "        if \"{}\" in line:\n",
    "            line = line.replace(\"{}\", \"\")\n",
    "        if \"<>\" in line:\n",
    "            line = line.replace(\"<>\", \"\")\n",
    "    cleaned_lines.append(line)\n",
    "    for c in line:\n",
    "        if c in points:\n",
    "            total_score += points[c]\n",
    "            break\n",
    "\n",
    "print(\"Part One:\", total_score)\n",
    "\n",
    "\n",
    "incomplete_lines = []\n",
    "\n",
    "for line in cleaned_lines:\n",
    "    if \")\" not in line and \"]\" not in line and \"}\" not in line and \">\" not in line:\n",
    "        incomplete_lines.append(line)\n",
    "\n",
    "points = {\n",
    "    \"(\": 1,\n",
    "    \"[\": 2,\n",
    "    \"{\": 3,\n",
    "    \"<\": 4\n",
    "}\n",
    "\n",
    "scores = []\n",
    "\n",
    "for line in incomplete_lines:\n",
    "    score = 0\n",
    "    for i in range(len(line)-1, -1, -1):\n",
    "        score *= 5\n",
    "        score += points[line[i]]\n",
    "    scores.append(score)\n",
    "\n",
    "scores.sort()\n",
    "\n",
    "print(\"Part Two:\", scores[len(scores)//2])"
   ]
  },
  {
   "cell_type": "markdown",
   "metadata": {},
   "source": [
    "**Day 11**"
   ]
  },
  {
   "cell_type": "code",
   "execution_count": 121,
   "metadata": {},
   "outputs": [
    {
     "name": "stdout",
     "output_type": "stream",
     "text": [
      "Part One: 1661\n",
      "Part Two: 334\n"
     ]
    }
   ],
   "source": [
    "with open(\"inputs/input11.txt\") as input:\n",
    "    octopuses = [list(map(int, list(line))) for line in input.read().splitlines()]\n",
    "\n",
    "total_counter = 0\n",
    "flash_counter = 0\n",
    "step_counter = 0\n",
    "total_len = len(octopuses) * len(octopuses[0])\n",
    "\n",
    "while flash_counter != total_len:\n",
    "    \n",
    "    flash_counter = 0\n",
    "    queue = []\n",
    "\n",
    "    for y in range(len(octopuses)):\n",
    "        for x in range(len(octopuses[0])):\n",
    "\n",
    "            octopuses[y][x] += 1\n",
    "            if octopuses[y][x] == 10:\n",
    "                queue.append((y,x))\n",
    "\n",
    "    while queue:\n",
    "        y1, x1 = queue.pop(0)\n",
    "        for y2 in range( max(0, y1-1), min(len(octopuses), y1+2) ):\n",
    "            for x2 in range( max(0, x1-1), min(len(octopuses[0]), x1+2) ):\n",
    "\n",
    "                if octopuses[y2][x2] < 10:\n",
    "                    octopuses[y2][x2] += 1\n",
    "                    if octopuses[y2][x2] == 10:\n",
    "                        queue.append((y2,x2))\n",
    "\n",
    "    for y in range(len(octopuses)):\n",
    "        for x in range(len(octopuses[0])):\n",
    "            if octopuses[y][x] > 9:\n",
    "                flash_counter += 1\n",
    "                octopuses[y][x] = 0\n",
    "\n",
    "    total_counter += flash_counter\n",
    "    step_counter += 1\n",
    "\n",
    "    if step_counter == 100:\n",
    "        print(\"Part One:\", total_counter)\n",
    "\n",
    "print(\"Part Two:\", step_counter)"
   ]
  }
 ],
 "metadata": {
  "interpreter": {
   "hash": "2a1ed4d4623027c892ffb3dc52b8c974fa7486c61ba4ab255076edc53bdf6a6d"
  },
  "kernelspec": {
   "display_name": "Python 3.9.2 64-bit",
   "language": "python",
   "name": "python3"
  },
  "language_info": {
   "codemirror_mode": {
    "name": "ipython",
    "version": 3
   },
   "file_extension": ".py",
   "mimetype": "text/x-python",
   "name": "python",
   "nbconvert_exporter": "python",
   "pygments_lexer": "ipython3",
   "version": "3.10.1"
  },
  "orig_nbformat": 4
 },
 "nbformat": 4,
 "nbformat_minor": 2
}
