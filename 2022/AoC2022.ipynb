{
 "cells": [
  {
   "cell_type": "markdown",
   "metadata": {},
   "source": [
    "**Day 1**"
   ]
  },
  {
   "cell_type": "code",
   "execution_count": 1,
   "metadata": {},
   "outputs": [
    {
     "name": "stdout",
     "output_type": "stream",
     "text": [
      "Part One: 71300\n",
      "Part Two: 209691\n"
     ]
    }
   ],
   "source": [
    "elves = []\n",
    "\n",
    "with open(\"inputs/input1.txt\") as file:\n",
    "    lines = file.read().splitlines()\n",
    "    elf = 0\n",
    "    for line in lines:\n",
    "        if line:\n",
    "            elf += int(line)\n",
    "        else:\n",
    "            elves.append(elf)\n",
    "            elf = 0\n",
    "\n",
    "elves.sort()\n",
    "\n",
    "print(\"Part One:\", elves[-1])\n",
    "print(\"Part Two:\", sum(elves[-3:]))\n"
   ]
  },
  {
   "cell_type": "markdown",
   "metadata": {},
   "source": [
    "**Day 2**"
   ]
  },
  {
   "cell_type": "code",
   "execution_count": 7,
   "metadata": {},
   "outputs": [
    {
     "name": "stdout",
     "output_type": "stream",
     "text": [
      "Part One: 14069\n",
      "Part One: 12411\n"
     ]
    }
   ],
   "source": [
    "dic = {\n",
    "    \"A\" : {\n",
    "        \"X\":3,\n",
    "        \"Y\":6,\n",
    "        \"Z\":0,\n",
    "    },\n",
    "    \"B\" : {\n",
    "        \"X\":0,\n",
    "        \"Y\":3,\n",
    "        \"Z\":6,\n",
    "    },\n",
    "    \"C\" : {\n",
    "        \"X\":6,\n",
    "        \"Y\":0,\n",
    "        \"Z\":3,\n",
    "    }\n",
    "}\n",
    "\n",
    "shapes = {\n",
    "    \"X\":1,\n",
    "    \"Y\":2,\n",
    "    \"Z\":3,\n",
    "}\n",
    "\n",
    "dic2 = {\n",
    "    \"A\" : {\n",
    "        \"X\":\"Z\",\n",
    "        \"Y\":\"X\",\n",
    "        \"Z\":\"Y\",\n",
    "    },\n",
    "    \"B\" : {\n",
    "        \"X\":\"X\",\n",
    "        \"Y\":\"Y\",\n",
    "        \"Z\":\"Z\",\n",
    "    },\n",
    "    \"C\" : {\n",
    "        \"X\":\"Y\",\n",
    "        \"Y\":\"Z\",\n",
    "        \"Z\":\"X\",\n",
    "    }\n",
    "}\n",
    "\n",
    "points = {\n",
    "    \"X\":0,\n",
    "    \"Y\":3,\n",
    "    \"Z\":6,\n",
    "}\n",
    "\n",
    "with open(\"inputs/input2.txt\") as input:\n",
    "    lines = [s.split(\" \") for s in input.read().splitlines()]\n",
    "\n",
    "out1 = 0\n",
    "\n",
    "for l in lines:\n",
    "    out1 += dic[l[0]][l[1]]\n",
    "    out1 += shapes[l[1]]\n",
    "\n",
    "print(\"Part One:\", out1)\n",
    "\n",
    "out2 = 0\n",
    "\n",
    "for l in lines:\n",
    "    out2 += shapes[ dic2[l[0]][l[1]] ]\n",
    "    out2 += points[l[1]]\n",
    "\n",
    "print(\"Part One:\", out2)"
   ]
  },
  {
   "cell_type": "markdown",
   "metadata": {},
   "source": [
    "**Day 3**"
   ]
  },
  {
   "cell_type": "code",
   "execution_count": 20,
   "metadata": {},
   "outputs": [
    {
     "name": "stdout",
     "output_type": "stream",
     "text": [
      "Part One: 7845\n",
      "Part Two: 2790\n"
     ]
    }
   ],
   "source": [
    "priorities = dict(zip([chr(x) for x in range(97, 123)], range(1, 27)))\n",
    "priorities.update(dict(zip([chr(x) for x in range(65, 91)], range(27, 53))))\n",
    "\n",
    "with open(\"inputs/input3.txt\") as input:\n",
    "    lines = input.read().splitlines()\n",
    "\n",
    "rucksacks = []\n",
    "\n",
    "for l in lines:\n",
    "    m = len(l)//2\n",
    "    rucksacks.append([set(l[:m]), set(l[m:])])\n",
    "\n",
    "out1 = 0\n",
    "\n",
    "for r in rucksacks:\n",
    "    shared = r[0] & r[1]\n",
    "    for s in shared:\n",
    "        out1 += priorities[s]\n",
    "\n",
    "print(\"Part One:\", out1)\n",
    "\n",
    "out2 = 0\n",
    "\n",
    "for i in range(2, len(lines), 3):\n",
    "    shared = set(lines[i-2]) & set(lines[i-1]) & set(lines[i])\n",
    "    for s in shared:\n",
    "        out2 += priorities[s]\n",
    "\n",
    "print(\"Part Two:\", out2)"
   ]
  },
  {
   "cell_type": "markdown",
   "metadata": {},
   "source": [
    "**Day 4**"
   ]
  },
  {
   "cell_type": "code",
   "execution_count": 17,
   "metadata": {},
   "outputs": [
    {
     "name": "stdout",
     "output_type": "stream",
     "text": [
      "Part One: 471\n",
      "Part Two: 888\n"
     ]
    }
   ],
   "source": [
    "out1 = 0\n",
    "out2 = 0\n",
    "\n",
    "with open(\"inputs/input4.txt\") as input:\n",
    "    lines = [[y.split(\"-\") for y in x.split(\",\")] for x in input.read().splitlines()]\n",
    "\n",
    "for elf1, elf2 in lines:\n",
    "    a = set(range(int(elf1[0]), int(elf1[1])+1))\n",
    "    b = set(range(int(elf2[0]), int(elf2[1])+1))\n",
    "\n",
    "    c = a & b\n",
    "\n",
    "    if c:\n",
    "        out2 += 1\n",
    "\n",
    "        if c == a or c == b:\n",
    "            out1 += 1\n",
    "\n",
    "\n",
    "print(\"Part One:\", out1)\n",
    "print(\"Part Two:\", out2)"
   ]
  },
  {
   "cell_type": "markdown",
   "metadata": {},
   "source": [
    "**Day 5**"
   ]
  },
  {
   "cell_type": "code",
   "execution_count": 49,
   "metadata": {},
   "outputs": [
    {
     "name": "stdout",
     "output_type": "stream",
     "text": [
      "Part One: FWNSHLDNZ\n",
      "Part Two: RNRGDNFQG\n"
     ]
    }
   ],
   "source": [
    "from collections import deque\n",
    "import copy\n",
    "\n",
    "with open(\"inputs/input5.txt\") as input:\n",
    "    lines = input.read().splitlines()\n",
    "\n",
    "num_stacks = (len(lines[0]) + 1) // 4\n",
    "\n",
    "stacks = {x:deque() for x in range(1, num_stacks+1)}\n",
    "\n",
    "moves_from = 0\n",
    "\n",
    "for i in range(len(lines)):\n",
    "    if lines[i][1] == \"1\":\n",
    "        moves_from = i + 2\n",
    "        break\n",
    "    else:\n",
    "        for c in range(1, len(lines[0]), 4):\n",
    "            if lines[i][c].isalpha():\n",
    "                stacks[(c//4)+1].appendleft(lines[i][c])\n",
    "\n",
    "stacks2 = copy.deepcopy(stacks)\n",
    "\n",
    "for line in lines[moves_from:]:\n",
    "    commands = line.split(\" \")\n",
    "    for _ in range(int(commands[1])):\n",
    "        crate = stacks[int(commands[3])].pop()\n",
    "        stacks[int(commands[5])].append(crate)\n",
    "\n",
    "out1 = \"\".join([s[-1] for s in stacks.values()])\n",
    "\n",
    "print(\"Part One:\", out1)\n",
    "\n",
    "for line in lines[moves_from:]:\n",
    "    commands = line.split(\" \")\n",
    "    crates = deque()\n",
    "    for _ in range(int(commands[1])):\n",
    "        crate = stacks2[int(commands[3])].pop()\n",
    "        crates.appendleft(crate)\n",
    "    stacks2[int(commands[5])].extend(crates)\n",
    "\n",
    "out2 = \"\".join([s[-1] for s in stacks2.values()])\n",
    "\n",
    "print(\"Part Two:\", out2)"
   ]
  },
  {
   "cell_type": "markdown",
   "metadata": {},
   "source": [
    "**Day 6**"
   ]
  },
  {
   "cell_type": "code",
   "execution_count": 23,
   "metadata": {},
   "outputs": [
    {
     "name": "stdout",
     "output_type": "stream",
     "text": [
      "Part One: 1361\n",
      "Part Two: 3263\n"
     ]
    }
   ],
   "source": [
    "with open(\"inputs/input6.txt\") as input:\n",
    "    line = input.read().strip()\n",
    "\n",
    "def solution(n):\n",
    "    for i in range(n, len(line)):\n",
    "        if len(set(line[i-n:i])) == n:\n",
    "            return(i)\n",
    "\n",
    "print(\"Part One:\", solution(4))\n",
    "print(\"Part Two:\", solution(14))"
   ]
  },
  {
   "cell_type": "markdown",
   "metadata": {},
   "source": [
    "**Day 7**"
   ]
  },
  {
   "cell_type": "code",
   "execution_count": 19,
   "metadata": {},
   "outputs": [
    {
     "name": "stdout",
     "output_type": "stream",
     "text": [
      "Part One: 1350966\n",
      "Part Two: 6296435\n"
     ]
    }
   ],
   "source": [
    "with open(\"inputs/input7.txt\") as input:\n",
    "    lines = [line.split(\" \") for line in input.read().splitlines()]\n",
    "\n",
    "class Directory:\n",
    "    def __init__(self, name, parent):\n",
    "        self.children = dict()\n",
    "        self.name = name\n",
    "        self.parent = parent\n",
    "        self.size = 0\n",
    "\n",
    "    def add_file(self, file_size):\n",
    "        to_update = self\n",
    "        while to_update:\n",
    "            to_update.size += int(file_size)\n",
    "            to_update = to_update.parent\n",
    "\n",
    "    def add_child(self, child_name):\n",
    "        d = Directory(child_name, self)\n",
    "        self.children[child_name] = d  \n",
    "\n",
    "root = Directory(\"root\", None)\n",
    "current_dir = root\n",
    "\n",
    "for l in lines[1:]:\n",
    "    if l[0] == \"dir\":\n",
    "        current_dir.add_child(l[1])\n",
    "    elif l[0].isnumeric():\n",
    "        current_dir.add_file(l[0])\n",
    "    elif l[1] == \"cd\":\n",
    "        if l[2] == \"..\":\n",
    "            current_dir = current_dir.parent\n",
    "        else:\n",
    "            current_dir = current_dir.children[l[2]]\n",
    "\n",
    "out1 = 0\n",
    "\n",
    "stack = [root]\n",
    "while stack:\n",
    "    node = stack.pop()\n",
    "    if node.size <= 100000:\n",
    "        out1 += node.size\n",
    "    stack.extend(node.children.values())\n",
    "\n",
    "print(\"Part One:\", out1)\n",
    "\n",
    "out2 = 70000000\n",
    "\n",
    "min_to_delete = 30000000 - (70000000 - root.size)\n",
    "\n",
    "stack = [root]\n",
    "while stack:\n",
    "    node = stack.pop()\n",
    "    if node.size > min_to_delete:\n",
    "        out2 = min(out2, node.size)\n",
    "        stack.extend(node.children.values())\n",
    "\n",
    "print(\"Part Two:\", out2)"
   ]
  },
  {
   "cell_type": "markdown",
   "metadata": {},
   "source": [
    "**Day 8**"
   ]
  },
  {
   "cell_type": "code",
   "execution_count": 32,
   "metadata": {},
   "outputs": [
    {
     "name": "stdout",
     "output_type": "stream",
     "text": [
      "Part One: 1843\n",
      "Part Two: 180000\n"
     ]
    }
   ],
   "source": [
    "with open(\"inputs/input8.txt\") as input:\n",
    "    grid = [list(map(int, list(line))) for line in input.read().splitlines()]\n",
    "\n",
    "height = len(grid)\n",
    "width = len(grid[0])\n",
    "\n",
    "seen = set()\n",
    "\n",
    "for row in range(1,height-1):\n",
    "    highest = grid[row][0]\n",
    "    for r in range(1,width-1):\n",
    "        if grid[row][r] > highest:\n",
    "            seen.add((row,r))\n",
    "            highest = grid[row][r]\n",
    "            if highest == 9:\n",
    "                break\n",
    "    highest = grid[row][width-1]\n",
    "    for l in range(width-2,0,-1):\n",
    "        if grid[row][l] > highest:\n",
    "            seen.add((row,l))\n",
    "            highest = grid[row][l]\n",
    "            if highest == 9:\n",
    "                break\n",
    "for col in range(1,width-1):\n",
    "    highest = grid[0][col]\n",
    "    for d in range(1,height-1):\n",
    "        if grid[d][col] > highest:\n",
    "            seen.add((d,col))\n",
    "            highest = grid[d][col]\n",
    "            if highest == 9:\n",
    "                break\n",
    "    highest = grid[height-1][col]\n",
    "    for u in range(height-2,0,-1):\n",
    "        if grid[u][col] > highest:\n",
    "            seen.add((u,col))\n",
    "            highest = grid[u][col]\n",
    "            if highest == 9:\n",
    "                break\n",
    "\n",
    "out1 = len(seen) + (height-1)*2 + (width-1)*2\n",
    "\n",
    "print(\"Part One:\", out1)\n",
    "\n",
    "max_visibility = 0\n",
    "\n",
    "for row in range(1,height-1):\n",
    "    for col in range(1,width-1):\n",
    "        right = 0\n",
    "        for r in range(col+1, width):\n",
    "            right += 1\n",
    "            if grid[row][r] >= grid[row][col]:\n",
    "                break\n",
    "        left = 0\n",
    "        for l in range(col-1, -1, -1):\n",
    "            left += 1\n",
    "            if grid[row][l] >= grid[row][col]:\n",
    "                break         \n",
    "        down = 0\n",
    "        for d in range(row+1, height):\n",
    "            down += 1\n",
    "            if grid[d][col] >= grid[row][col]:\n",
    "                break\n",
    "        up = 0\n",
    "        for u in range(row-1, -1, -1):\n",
    "            up += 1\n",
    "            if grid[u][col] >= grid[row][col]:\n",
    "                break  \n",
    "        max_visibility = max(max_visibility, (right*left*up*down))\n",
    "\n",
    "print(\"Part Two:\", max_visibility)"
   ]
  },
  {
   "attachments": {},
   "cell_type": "markdown",
   "metadata": {},
   "source": [
    "**Day 9**"
   ]
  },
  {
   "cell_type": "code",
   "execution_count": 22,
   "metadata": {},
   "outputs": [
    {
     "name": "stdout",
     "output_type": "stream",
     "text": [
      "Part One: 6486\n",
      "Part Two: 2678\n"
     ]
    }
   ],
   "source": [
    "with open(\"inputs/input9.txt\") as input:\n",
    "    lines = [line.split(\" \") for line in input.read().splitlines()]\n",
    "\n",
    "visited = {(0,0)}\n",
    "head = [0,0]\n",
    "tail = [0,0]\n",
    "\n",
    "moves = {\n",
    "    \"R\":[0,1],\n",
    "    \"L\":[0,-1],\n",
    "    \"D\":[1,0],\n",
    "    \"U\":[-1,0]\n",
    "}\n",
    "\n",
    "for l in lines:\n",
    "    for _ in range(int(l[1])):\n",
    "        head[0] += moves[l[0]][0]\n",
    "        head[1] += moves[l[0]][1]\n",
    "        if abs(head[0] - tail[0]) > 1 or abs(head[1] - tail[1]) > 1:\n",
    "            for p in [0, 1]:\n",
    "                if abs(head[p] - tail[p]) == 1:\n",
    "                    tail[p] = head[p]\n",
    "                elif abs(head[p] - tail[p]) == 2:\n",
    "                    tail[p] = (tail[p] + head[p])//2\n",
    "            visited.add(tuple(tail))\n",
    "\n",
    "print(\"Part One:\", len(visited))\n",
    "\n",
    "visited = {(0,0)}\n",
    "\n",
    "knots = [[0,0] for _ in range(10)]\n",
    "\n",
    "for l in lines:\n",
    "    for _ in range(int(l[1])):\n",
    "        knots[0][0] += moves[l[0]][0]\n",
    "        knots[0][1] += moves[l[0]][1]\n",
    "        for i in range(1, 10):\n",
    "            if abs(knots[i-1][0] - knots[i][0]) > 1 or abs(knots[i-1][1] - knots[i][1]) > 1:\n",
    "                for p in [0, 1]:\n",
    "                    if abs(knots[i-1][p] - knots[i][p]) == 1:\n",
    "                        knots[i][p] = knots[i-1][p]\n",
    "                    elif abs(knots[i-1][p] - knots[i][p]) == 2:\n",
    "                        knots[i][p] = (knots[i][p] + knots[i-1][p])//2\n",
    "        visited.add(tuple(knots[9]))\n",
    "\n",
    "print(\"Part Two:\", len(visited))\n",
    "                "
   ]
  }
 ],
 "metadata": {
  "kernelspec": {
   "display_name": "Python 3.10.7 64-bit",
   "language": "python",
   "name": "python3"
  },
  "language_info": {
   "codemirror_mode": {
    "name": "ipython",
    "version": 3
   },
   "file_extension": ".py",
   "mimetype": "text/x-python",
   "name": "python",
   "nbconvert_exporter": "python",
   "pygments_lexer": "ipython3",
   "version": "3.10.7"
  },
  "orig_nbformat": 4,
  "vscode": {
   "interpreter": {
    "hash": "35d7e08f1f98ee58e9edced7a1043a5fc18613eb6991aa1cd3ec2f710d69752e"
   }
  }
 },
 "nbformat": 4,
 "nbformat_minor": 2
}
