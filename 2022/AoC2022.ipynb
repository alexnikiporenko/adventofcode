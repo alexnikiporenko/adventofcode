{
 "cells": [
  {
   "cell_type": "markdown",
   "metadata": {},
   "source": [
    "**Day 1**"
   ]
  },
  {
   "cell_type": "code",
   "execution_count": 25,
   "metadata": {},
   "outputs": [
    {
     "name": "stdout",
     "output_type": "stream",
     "text": [
      "Part One: 71300\n",
      "Part Two: 209691\n"
     ]
    }
   ],
   "source": [
    "elves = []\n",
    "\n",
    "with open(\"inputs/input1.txt\") as file:\n",
    "    lines = file.read().splitlines()\n",
    "    elf = 0\n",
    "    for line in lines:\n",
    "        if line:\n",
    "            elf += int(line)\n",
    "        else:\n",
    "            elves.append(elf)\n",
    "            elf = 0\n",
    "\n",
    "elves.sort()\n",
    "\n",
    "print(\"Part One:\", elves[-1])\n",
    "print(\"Part Two:\", sum(elves[-3:]))\n"
   ]
  },
  {
   "cell_type": "markdown",
   "metadata": {},
   "source": [
    "**Day 2**"
   ]
  },
  {
   "cell_type": "code",
   "execution_count": 26,
   "metadata": {},
   "outputs": [
    {
     "name": "stdout",
     "output_type": "stream",
     "text": [
      "Part One: 14069\n",
      "Part One: 12411\n"
     ]
    }
   ],
   "source": [
    "dic = {\n",
    "    \"A\" : {\n",
    "        \"X\":3,\n",
    "        \"Y\":6,\n",
    "        \"Z\":0,\n",
    "    },\n",
    "    \"B\" : {\n",
    "        \"X\":0,\n",
    "        \"Y\":3,\n",
    "        \"Z\":6,\n",
    "    },\n",
    "    \"C\" : {\n",
    "        \"X\":6,\n",
    "        \"Y\":0,\n",
    "        \"Z\":3,\n",
    "    }\n",
    "}\n",
    "\n",
    "shapes = {\n",
    "    \"X\":1,\n",
    "    \"Y\":2,\n",
    "    \"Z\":3,\n",
    "}\n",
    "\n",
    "dic2 = {\n",
    "    \"A\" : {\n",
    "        \"X\":\"Z\",\n",
    "        \"Y\":\"X\",\n",
    "        \"Z\":\"Y\",\n",
    "    },\n",
    "    \"B\" : {\n",
    "        \"X\":\"X\",\n",
    "        \"Y\":\"Y\",\n",
    "        \"Z\":\"Z\",\n",
    "    },\n",
    "    \"C\" : {\n",
    "        \"X\":\"Y\",\n",
    "        \"Y\":\"Z\",\n",
    "        \"Z\":\"X\",\n",
    "    }\n",
    "}\n",
    "\n",
    "points = {\n",
    "    \"X\":0,\n",
    "    \"Y\":3,\n",
    "    \"Z\":6,\n",
    "}\n",
    "\n",
    "with open(\"inputs/input2.txt\") as input:\n",
    "    lines = [s.split(\" \") for s in input.read().splitlines()]\n",
    "\n",
    "out1 = 0\n",
    "\n",
    "for l in lines:\n",
    "    out1 += dic[l[0]][l[1]]\n",
    "    out1 += shapes[l[1]]\n",
    "\n",
    "print(\"Part One:\", out1)\n",
    "\n",
    "out2 = 0\n",
    "\n",
    "for l in lines:\n",
    "    out2 += shapes[ dic2[l[0]][l[1]] ]\n",
    "    out2 += points[l[1]]\n",
    "\n",
    "print(\"Part One:\", out2)"
   ]
  },
  {
   "cell_type": "markdown",
   "metadata": {},
   "source": [
    "**Day 3**"
   ]
  },
  {
   "cell_type": "code",
   "execution_count": 27,
   "metadata": {},
   "outputs": [
    {
     "name": "stdout",
     "output_type": "stream",
     "text": [
      "Part One: 7845\n",
      "Part Two: 2790\n"
     ]
    }
   ],
   "source": [
    "priorities = dict(zip([chr(x) for x in range(97, 123)], range(1, 27)))\n",
    "priorities.update(dict(zip([chr(x) for x in range(65, 91)], range(27, 53))))\n",
    "\n",
    "with open(\"inputs/input3.txt\") as input:\n",
    "    lines = input.read().splitlines()\n",
    "\n",
    "rucksacks = []\n",
    "\n",
    "for l in lines:\n",
    "    m = len(l)//2\n",
    "    rucksacks.append([set(l[:m]), set(l[m:])])\n",
    "\n",
    "out1 = 0\n",
    "\n",
    "for r in rucksacks:\n",
    "    shared = r[0] & r[1]\n",
    "    for s in shared:\n",
    "        out1 += priorities[s]\n",
    "\n",
    "print(\"Part One:\", out1)\n",
    "\n",
    "out2 = 0\n",
    "\n",
    "for i in range(2, len(lines), 3):\n",
    "    shared = set(lines[i-2]) & set(lines[i-1]) & set(lines[i])\n",
    "    for s in shared:\n",
    "        out2 += priorities[s]\n",
    "\n",
    "print(\"Part Two:\", out2)"
   ]
  },
  {
   "cell_type": "markdown",
   "metadata": {},
   "source": [
    "**Day 4**"
   ]
  },
  {
   "cell_type": "code",
   "execution_count": 28,
   "metadata": {},
   "outputs": [
    {
     "name": "stdout",
     "output_type": "stream",
     "text": [
      "Part One: 471\n",
      "Part Two: 888\n"
     ]
    }
   ],
   "source": [
    "out1 = 0\n",
    "out2 = 0\n",
    "\n",
    "with open(\"inputs/input4.txt\") as input:\n",
    "    lines = [[y.split(\"-\") for y in x.split(\",\")] for x in input.read().splitlines()]\n",
    "\n",
    "for elf1, elf2 in lines:\n",
    "    a = set(range(int(elf1[0]), int(elf1[1])+1))\n",
    "    b = set(range(int(elf2[0]), int(elf2[1])+1))\n",
    "\n",
    "    c = a & b\n",
    "\n",
    "    if c:\n",
    "        out2 += 1\n",
    "\n",
    "        if c == a or c == b:\n",
    "            out1 += 1\n",
    "\n",
    "\n",
    "print(\"Part One:\", out1)\n",
    "print(\"Part Two:\", out2)"
   ]
  },
  {
   "cell_type": "markdown",
   "metadata": {},
   "source": [
    "**Day 5**"
   ]
  },
  {
   "cell_type": "code",
   "execution_count": 29,
   "metadata": {},
   "outputs": [
    {
     "name": "stdout",
     "output_type": "stream",
     "text": [
      "Part One: FWNSHLDNZ\n",
      "Part Two: RNRGDNFQG\n"
     ]
    }
   ],
   "source": [
    "from collections import deque\n",
    "import copy\n",
    "\n",
    "with open(\"inputs/input5.txt\") as input:\n",
    "    lines = input.read().splitlines()\n",
    "\n",
    "num_stacks = (len(lines[0]) + 1) // 4\n",
    "\n",
    "stacks = {x:deque() for x in range(1, num_stacks+1)}\n",
    "\n",
    "moves_from = 0\n",
    "\n",
    "for i in range(len(lines)):\n",
    "    if lines[i][1] == \"1\":\n",
    "        moves_from = i + 2\n",
    "        break\n",
    "    else:\n",
    "        for c in range(1, len(lines[0]), 4):\n",
    "            if lines[i][c].isalpha():\n",
    "                stacks[(c//4)+1].appendleft(lines[i][c])\n",
    "\n",
    "stacks2 = copy.deepcopy(stacks)\n",
    "\n",
    "for line in lines[moves_from:]:\n",
    "    commands = line.split(\" \")\n",
    "    for _ in range(int(commands[1])):\n",
    "        crate = stacks[int(commands[3])].pop()\n",
    "        stacks[int(commands[5])].append(crate)\n",
    "\n",
    "out1 = \"\".join([s[-1] for s in stacks.values()])\n",
    "\n",
    "print(\"Part One:\", out1)\n",
    "\n",
    "for line in lines[moves_from:]:\n",
    "    commands = line.split(\" \")\n",
    "    crates = deque()\n",
    "    for _ in range(int(commands[1])):\n",
    "        crate = stacks2[int(commands[3])].pop()\n",
    "        crates.appendleft(crate)\n",
    "    stacks2[int(commands[5])].extend(crates)\n",
    "\n",
    "out2 = \"\".join([s[-1] for s in stacks2.values()])\n",
    "\n",
    "print(\"Part Two:\", out2)"
   ]
  },
  {
   "cell_type": "markdown",
   "metadata": {},
   "source": [
    "**Day 6**"
   ]
  },
  {
   "cell_type": "code",
   "execution_count": 2,
   "metadata": {},
   "outputs": [
    {
     "name": "stdout",
     "output_type": "stream",
     "text": [
      "Part One: 1361\n",
      "Part Two: 3263\n"
     ]
    }
   ],
   "source": [
    "with open(\"inputs/input6.txt\") as input:\n",
    "    line = input.read().strip()\n",
    "\n",
    "def solution(n):\n",
    "    for i in range(n, len(line)+1):\n",
    "        if len(set(line[i-n:i])) == n:\n",
    "            return(i)\n",
    "\n",
    "print(\"Part One:\", solution(4))\n",
    "print(\"Part Two:\", solution(14))"
   ]
  },
  {
   "cell_type": "markdown",
   "metadata": {},
   "source": [
    "**Day 7**"
   ]
  },
  {
   "cell_type": "code",
   "execution_count": 31,
   "metadata": {},
   "outputs": [
    {
     "name": "stdout",
     "output_type": "stream",
     "text": [
      "Part One: 1350966\n",
      "Part Two: 6296435\n"
     ]
    }
   ],
   "source": [
    "with open(\"inputs/input7.txt\") as input:\n",
    "    lines = [line.split(\" \") for line in input.read().splitlines()]\n",
    "\n",
    "class Directory:\n",
    "    def __init__(self, name, parent):\n",
    "        self.children = dict()\n",
    "        self.name = name\n",
    "        self.parent = parent\n",
    "        self.size = 0\n",
    "\n",
    "    def add_file(self, file_size):\n",
    "        to_update = self\n",
    "        while to_update:\n",
    "            to_update.size += int(file_size)\n",
    "            to_update = to_update.parent\n",
    "\n",
    "    def add_child(self, child_name):\n",
    "        d = Directory(child_name, self)\n",
    "        self.children[child_name] = d  \n",
    "\n",
    "root = Directory(\"root\", None)\n",
    "current_dir = root\n",
    "\n",
    "for l in lines[1:]:\n",
    "    if l[0] == \"dir\":\n",
    "        current_dir.add_child(l[1])\n",
    "    elif l[0].isnumeric():\n",
    "        current_dir.add_file(l[0])\n",
    "    elif l[1] == \"cd\":\n",
    "        if l[2] == \"..\":\n",
    "            current_dir = current_dir.parent\n",
    "        else:\n",
    "            current_dir = current_dir.children[l[2]]\n",
    "\n",
    "out1 = 0\n",
    "\n",
    "stack = [root]\n",
    "while stack:\n",
    "    node = stack.pop()\n",
    "    if node.size <= 100000:\n",
    "        out1 += node.size\n",
    "    stack.extend(node.children.values())\n",
    "\n",
    "print(\"Part One:\", out1)\n",
    "\n",
    "out2 = 70000000\n",
    "\n",
    "min_to_delete = 30000000 - (70000000 - root.size)\n",
    "\n",
    "stack = [root]\n",
    "while stack:\n",
    "    node = stack.pop()\n",
    "    if node.size > min_to_delete:\n",
    "        out2 = min(out2, node.size)\n",
    "        stack.extend(node.children.values())\n",
    "\n",
    "print(\"Part Two:\", out2)"
   ]
  },
  {
   "cell_type": "markdown",
   "metadata": {},
   "source": [
    "**Day 8**"
   ]
  },
  {
   "cell_type": "code",
   "execution_count": 32,
   "metadata": {},
   "outputs": [
    {
     "name": "stdout",
     "output_type": "stream",
     "text": [
      "Part One: 1843\n",
      "Part Two: 180000\n"
     ]
    }
   ],
   "source": [
    "with open(\"inputs/input8.txt\") as input:\n",
    "    grid = [list(map(int, list(line))) for line in input.read().splitlines()]\n",
    "\n",
    "height = len(grid)\n",
    "width = len(grid[0])\n",
    "\n",
    "seen = set()\n",
    "\n",
    "for row in range(1,height-1):\n",
    "    highest = grid[row][0]\n",
    "    for r in range(1,width-1):\n",
    "        if grid[row][r] > highest:\n",
    "            seen.add((row,r))\n",
    "            highest = grid[row][r]\n",
    "            if highest == 9:\n",
    "                break\n",
    "    highest = grid[row][width-1]\n",
    "    for l in range(width-2,0,-1):\n",
    "        if grid[row][l] > highest:\n",
    "            seen.add((row,l))\n",
    "            highest = grid[row][l]\n",
    "            if highest == 9:\n",
    "                break\n",
    "for col in range(1,width-1):\n",
    "    highest = grid[0][col]\n",
    "    for d in range(1,height-1):\n",
    "        if grid[d][col] > highest:\n",
    "            seen.add((d,col))\n",
    "            highest = grid[d][col]\n",
    "            if highest == 9:\n",
    "                break\n",
    "    highest = grid[height-1][col]\n",
    "    for u in range(height-2,0,-1):\n",
    "        if grid[u][col] > highest:\n",
    "            seen.add((u,col))\n",
    "            highest = grid[u][col]\n",
    "            if highest == 9:\n",
    "                break\n",
    "\n",
    "out1 = len(seen) + (height-1)*2 + (width-1)*2\n",
    "\n",
    "print(\"Part One:\", out1)\n",
    "\n",
    "max_visibility = 0\n",
    "\n",
    "for row in range(1,height-1):\n",
    "    for col in range(1,width-1):\n",
    "        right = 0\n",
    "        for r in range(col+1, width):\n",
    "            right += 1\n",
    "            if grid[row][r] >= grid[row][col]:\n",
    "                break\n",
    "        left = 0\n",
    "        for l in range(col-1, -1, -1):\n",
    "            left += 1\n",
    "            if grid[row][l] >= grid[row][col]:\n",
    "                break         \n",
    "        down = 0\n",
    "        for d in range(row+1, height):\n",
    "            down += 1\n",
    "            if grid[d][col] >= grid[row][col]:\n",
    "                break\n",
    "        up = 0\n",
    "        for u in range(row-1, -1, -1):\n",
    "            up += 1\n",
    "            if grid[u][col] >= grid[row][col]:\n",
    "                break  \n",
    "        max_visibility = max(max_visibility, (right*left*up*down))\n",
    "\n",
    "print(\"Part Two:\", max_visibility)"
   ]
  },
  {
   "attachments": {},
   "cell_type": "markdown",
   "metadata": {},
   "source": [
    "**Day 9**"
   ]
  },
  {
   "cell_type": "code",
   "execution_count": 7,
   "metadata": {},
   "outputs": [
    {
     "name": "stdout",
     "output_type": "stream",
     "text": [
      "Part One: 6486\n",
      "Part Two: 2678\n"
     ]
    }
   ],
   "source": [
    "with open(\"inputs/input9.txt\") as input:\n",
    "    lines = [line.split(\" \") for line in input.read().splitlines()]\n",
    "\n",
    "moves = {\n",
    "    \"R\":[0,1],\n",
    "    \"L\":[0,-1],\n",
    "    \"D\":[1,0],\n",
    "    \"U\":[-1,0]\n",
    "}\n",
    "\n",
    "def solution(length):\n",
    "    visited = {(0,0)}\n",
    "\n",
    "    knots = [[0,0] for _ in range(length)]\n",
    "\n",
    "    for l in lines:\n",
    "        for _ in range(int(l[1])):\n",
    "            knots[0] = [x + y for x, y in zip(knots[0], moves[l[0]])]\n",
    "            for i in range(1, length):\n",
    "                if abs(knots[i-1][0] - knots[i][0]) > 1 or abs(knots[i-1][1] - knots[i][1]) > 1:\n",
    "                    for p in [0, 1]:\n",
    "                        if abs(knots[i-1][p] - knots[i][p]) == 1:\n",
    "                            knots[i][p] = knots[i-1][p]\n",
    "                        elif abs(knots[i-1][p] - knots[i][p]) == 2:\n",
    "                            knots[i][p] = (knots[i][p] + knots[i-1][p])//2\n",
    "            visited.add(tuple(knots[-1]))\n",
    "    return len(visited)\n",
    "\n",
    "print(\"Part One:\", solution(2))\n",
    "print(\"Part Two:\", solution(10))"
   ]
  },
  {
   "attachments": {},
   "cell_type": "markdown",
   "metadata": {},
   "source": [
    "**Day 10**"
   ]
  },
  {
   "cell_type": "code",
   "execution_count": 54,
   "metadata": {},
   "outputs": [
    {
     "name": "stdout",
     "output_type": "stream",
     "text": [
      "Part One: 13060\n",
      "Part Two:\n",
      "\n",
      "# # # # . . . # # . # . . # . # # # . . # . . # . # . . . . # # # . . # # # # . \n",
      "# . . . . . . . # . # . . # . # . . # . # . . # . # . . . . # . . # . . . . # . \n",
      "# # # . . . . . # . # . . # . # # # . . # . . # . # . . . . # . . # . . . # . . \n",
      "# . . . . . . . # . # . . # . # . . # . # . . # . # . . . . # # # . . . # . . . \n",
      "# . . . . # . . # . # . . # . # . . # . # . . # . # . . . . # . # . . # . . . . \n",
      "# . . . . . # # . . . # # . . # # # . . . # # . . # # # # . # . . # . # # # # . \n"
     ]
    }
   ],
   "source": [
    "with open(\"inputs/input10.txt\") as input:\n",
    "    lines = [line.split(\" \") for line in input.read().splitlines()]\n",
    "\n",
    "Xs = [1]\n",
    "\n",
    "for l in lines:\n",
    "    Xs.append(Xs[-1])\n",
    "    if l[0] == \"addx\":\n",
    "        Xs.append(Xs[-1] + int(l[1]))\n",
    "\n",
    "def sig(c):\n",
    "    return Xs[c-1] * c\n",
    "\n",
    "print(\"Part One:\", sum([sig(x) for x in range(20, 221, 40)]))\n",
    "\n",
    "s = \"\"\n",
    "for i in range(240):\n",
    "    if i % 40 == 0:\n",
    "        s += \"\\n\"\n",
    "    if abs(i%40 - Xs[i]) <= 1:\n",
    "        s += \"# \"\n",
    "    else:\n",
    "        s += \". \"\n",
    "\n",
    "print(\"Part Two:\")\n",
    "print(s)"
   ]
  },
  {
   "attachments": {},
   "cell_type": "markdown",
   "metadata": {},
   "source": [
    "**Day 11**"
   ]
  },
  {
   "cell_type": "code",
   "execution_count": 5,
   "metadata": {},
   "outputs": [
    {
     "name": "stdout",
     "output_type": "stream",
     "text": [
      "Part 1: 58056\n",
      "Part 2: 15048718170\n"
     ]
    }
   ],
   "source": [
    "from collections import deque\n",
    "from functools import reduce\n",
    "\n",
    "def solution(part):\n",
    "    with open(\"inputs/input11.txt\") as input:\n",
    "        monkeys = [[l.replace(\",\", \"\").split() for l in m.splitlines()] for m in input.read().split(\"\\n\\n\")]\n",
    "\n",
    "    counters = [0 for _ in range(len(monkeys))]\n",
    "\n",
    "    divisor = reduce(lambda x,y: x*y, [int(m[3][-1]) for m in monkeys])\n",
    "\n",
    "    for m in monkeys:\n",
    "        m[1] = deque([int(n) for n in m[1][2:]])\n",
    "        for i in range(len(m[1])):\n",
    "            m[1][i] = m[1][i] % divisor\n",
    "\n",
    "    rounds = 20 if part == 1 else 10000\n",
    "\n",
    "    for _ in range(rounds):\n",
    "        for i in range(len(monkeys)):\n",
    "            while monkeys[i][1]:\n",
    "                counters[i] += 1\n",
    "                old = monkeys[i][1].popleft()\n",
    "                if part == 1:\n",
    "                    old = ( (eval(\" \".join(monkeys[i][2][-3:]))) //3) % divisor\n",
    "                else:\n",
    "                    old = ( (eval(\" \".join(monkeys[i][2][-3:])))) % divisor\n",
    "                if old % int(monkeys[i][3][-1]) == 0:\n",
    "                    monkeys[int(monkeys[i][4][-1])][1].append(old)\n",
    "                else:\n",
    "                    monkeys[int(monkeys[i][5][-1])][1].append(old)\n",
    "\n",
    "    counters.sort()\n",
    "\n",
    "    print(f\"Part {part}:\", counters[-1] * counters[-2])\n",
    "\n",
    "solution(1)\n",
    "solution(2)"
   ]
  },
  {
   "attachments": {},
   "cell_type": "markdown",
   "metadata": {},
   "source": [
    "**Day 12**"
   ]
  },
  {
   "cell_type": "code",
   "execution_count": 57,
   "metadata": {},
   "outputs": [
    {
     "name": "stdout",
     "output_type": "stream",
     "text": [
      "Part 1: 412\n",
      "Part 2: 402\n"
     ]
    }
   ],
   "source": [
    "# Dijkstra\n",
    "def solution(part):\n",
    "\n",
    "    with open(\"inputs/input12.txt\") as input:\n",
    "        grid = [list(map(ord, list(line))) for line in input.read().splitlines()]\n",
    "\n",
    "    height = len(grid)\n",
    "    width = len(grid[0])\n",
    "\n",
    "    visited = [[False for c in range(width)] for r in range(height)]\n",
    "    distances = [[float(\"inf\") for c in range(width)] for r in range(height)]\n",
    "\n",
    "    goals = set()\n",
    "\n",
    "    for r in range(height):\n",
    "        for c in range(width):\n",
    "            if part == 1:\n",
    "                if grid[r][c] == ord(\"S\"):\n",
    "                    start = (r,c)\n",
    "                    distances[r][c] = 0\n",
    "                    grid[r][c] = ord(\"a\")\n",
    "                elif grid[r][c] == ord(\"E\"):\n",
    "                    goal = (r,c)\n",
    "                    grid[r][c] = ord(\"z\")\n",
    "            else:\n",
    "                if grid[r][c] == ord(\"E\"):\n",
    "                    start = (r,c)\n",
    "                    distances[r][c] = 0\n",
    "                    grid[r][c] = ord(\"z\")\n",
    "                elif grid[r][c] in [ord(\"S\"), ord(\"a\")]:\n",
    "                    goals.add((r,c))\n",
    "                    grid[r][c] = ord(\"a\")\n",
    "\n",
    "    to_visit = {\n",
    "            start : 0\n",
    "        }\n",
    "\n",
    "    while to_visit:\n",
    "        r, c = min(to_visit, key=to_visit.get)\n",
    "        del to_visit[(r,c)]\n",
    "        visited[r][c] = True\n",
    "\n",
    "        if part == 1:\n",
    "            if (r,c) == goal:\n",
    "                break\n",
    "        else:\n",
    "            if (r,c) in goals:\n",
    "                break            \n",
    "        neighbours = [(r-1, c), (r+1, c), (r, c-1), (r, c+1)]\n",
    "        for nr, nc in neighbours:\n",
    "            if 0 <= nr < height and 0 <= nc < width and not visited[nr][nc]:\n",
    "                if (part == 1 and grid[nr][nc] <= grid[r][c]+1) or (part == 2 and grid[nr][nc] >= grid[r][c]-1):\n",
    "                    temp_dist = distances[r][c] + 1\n",
    "                    if temp_dist < distances[nr][nc]:\n",
    "                        distances[nr][nc] = temp_dist\n",
    "                        to_visit[(nr,nc)] = temp_dist\n",
    "\n",
    "    print(f\"Part {part}:\", distances[r][c])\n",
    "\n",
    "solution(1)\n",
    "solution(2)"
   ]
  },
  {
   "attachments": {},
   "cell_type": "markdown",
   "metadata": {},
   "source": [
    "**Day 13**"
   ]
  },
  {
   "cell_type": "code",
   "execution_count": 46,
   "metadata": {},
   "outputs": [
    {
     "name": "stdout",
     "output_type": "stream",
     "text": [
      "Part One: 5003\n",
      "Part Two: 20280\n"
     ]
    }
   ],
   "source": [
    "from collections import deque\n",
    "\n",
    "with open(\"inputs/input13.txt\") as input:\n",
    "    packets = [[eval(l) for l in m.splitlines()] for m in input.read().split(\"\\n\\n\")]\n",
    "\n",
    "right_order = 0\n",
    "\n",
    "def is_smaller(i, ii):\n",
    "    left = deque(i+[float(\"-inf\")])\n",
    "    right = deque(ii+[float(\"-inf\")])\n",
    "    while left and right:\n",
    "        l_pack = left.popleft()\n",
    "        r_pack = right.popleft()\n",
    "        if type(l_pack) == list and type(r_pack) == list:\n",
    "            # using sentinels\n",
    "            left.extendleft((l_pack+[float(\"-inf\")])[::-1])\n",
    "            right.extendleft((r_pack+[float(\"-inf\")])[::-1])\n",
    "        elif type(l_pack) == list: \n",
    "            left.appendleft(l_pack)\n",
    "            right.appendleft([r_pack])\n",
    "        elif type(r_pack) == list:\n",
    "            left.appendleft([l_pack])\n",
    "            right.appendleft(r_pack)            \n",
    "        elif l_pack < r_pack:\n",
    "            return -1\n",
    "        elif r_pack < l_pack:\n",
    "            return 1\n",
    "    return 0\n",
    "\n",
    "for i in range(len(packets)):\n",
    "    if is_smaller(packets[i][0], packets[i][1]) < 0:\n",
    "        right_order += i+1\n",
    "\n",
    "print(\"Part One:\", right_order) \n",
    "\n",
    "packets_ord = [[[2]], [[6]]]\n",
    "\n",
    "for p in packets:\n",
    "    packets_ord.extend(p)\n",
    "\n",
    "# https://docs.python.org/3/howto/sorting.html#comparison-functions\n",
    "\n",
    "from functools import cmp_to_key\n",
    "\n",
    "packets_ord.sort(key=cmp_to_key(is_smaller))\n",
    "print(\"Part Two:\", (packets_ord.index([[2]])+1) * (packets_ord.index([[6]])+1)) "
   ]
  },
  {
   "attachments": {},
   "cell_type": "markdown",
   "metadata": {},
   "source": [
    "**Day 14**"
   ]
  },
  {
   "cell_type": "code",
   "execution_count": 76,
   "metadata": {},
   "outputs": [
    {
     "name": "stdout",
     "output_type": "stream",
     "text": [
      "Part One: 838\n",
      "Part Two: 27539\n"
     ]
    }
   ],
   "source": [
    "with open(\"inputs/input14.txt\") as input:\n",
    "    lines = [[tuple(map(int, c.split(\",\"))) for c in line.split(\" -> \")] for line in input.read().splitlines()]\n",
    "\n",
    "occupied = set()\n",
    "\n",
    "max_y = 0\n",
    "\n",
    "def occupy(point1, point2):\n",
    "    x1, y1 = point1\n",
    "    x2, y2 = point2\n",
    "    \n",
    "    global max_y\n",
    "    max_y = max([max_y, y1, y2])\n",
    "\n",
    "    if x1 == x2:\n",
    "        for yn in range(min(y1, y2), max(y1, y2)+1):\n",
    "            occupied.add((x1, yn))\n",
    "\n",
    "    else:\n",
    "        for xn in range(min(x1, x2), max(x1, x2)+1):\n",
    "            occupied.add((xn, y1))\n",
    "\n",
    "for l in lines:\n",
    "    for i in range(1, len(l)):\n",
    "        occupy(l[i-1], l[i])\n",
    "\n",
    "occupied2 = occupied.copy()\n",
    "\n",
    "def sand_fall(pile, part2 = False):\n",
    "    x_sand = 500\n",
    "    y_sand = 0\n",
    "    while y_sand < max_y:\n",
    "        if part2 and y_sand+1 == max_y:\n",
    "            pile.add((x_sand, y_sand))\n",
    "            return True\n",
    "        elif (x_sand, y_sand+1) not in pile:\n",
    "            y_sand += 1\n",
    "        elif (x_sand-1, y_sand+1) not in pile:\n",
    "            x_sand -= 1\n",
    "            y_sand += 1\n",
    "        elif (x_sand+1, y_sand+1) not in pile:\n",
    "            x_sand += 1\n",
    "            y_sand += 1\n",
    "        else:\n",
    "            pile.add((x_sand, y_sand))\n",
    "            return True\n",
    "    return False\n",
    "\n",
    "counter = 0\n",
    "\n",
    "while True:\n",
    "    if sand_fall(occupied):\n",
    "        counter += 1\n",
    "    else:\n",
    "        break\n",
    "\n",
    "print(\"Part One:\", counter)\n",
    "\n",
    "max_y += 2\n",
    "\n",
    "counter = 0\n",
    "pile_len = len(occupied2)\n",
    "\n",
    "while True:\n",
    "    sand_fall(occupied2, part2=True)\n",
    "    new_len = len(occupied2)\n",
    "    if new_len == pile_len:\n",
    "        print(\"Part Two:\", counter)\n",
    "        break\n",
    "    else:\n",
    "        pile_len = new_len\n",
    "        counter += 1\n"
   ]
  },
  {
   "attachments": {},
   "cell_type": "markdown",
   "metadata": {},
   "source": [
    "**Day 15**\n",
    "Part 1"
   ]
  },
  {
   "cell_type": "code",
   "execution_count": 2,
   "metadata": {},
   "outputs": [
    {
     "name": "stdout",
     "output_type": "stream",
     "text": [
      "[[3556832, 3209801, 3520475, 3164417], [3068970, 3071952, 3520475, 3164417], [636397, 1899889, 338784, 1935796], [3856769, 3377079, 3520475, 3164417], [2876227, 2633203, 2595700, 2684432], [1435445, 1194830, 925348, 2000000], [3764673, 3881970, 3520475, 3164417], [3171272, 1098717, 3778277, 740547], [3646837, 966534, 3778277, 740547], [1736390, 3309102, 1623417, 4114070], [1086601, 2272573, 925348, 2000000], [3793954, 2346914, 3520475, 3164417], [1896054, 2706210, 2595700, 2684432], [2298950, 3449308, 2205069, 3958831], [1911518, 3848874, 2205069, 3958831], [2566355, 1516144, 2595700, 2684432], [246553, 343125, 338784, 1935796], [2197183, 3975039, 2205069, 3958831], [552775, 3494740, -138318, 2857049], [128870, 1935711, 338784, 1935796], [2197078, 3999879, 2205069, 3958831], [2502533, 3911039, 2205069, 3958831], [2289309, 3024440, 2595700, 2684432], [3999523, 551710, 3778277, 740547], [2246061, 3999936, 2205069, 3958831], [3982782, 1306639, 3778277, 740547], [1166660, 2766482, 925348, 2000000], [3744391, 440575, 3778277, 740547], [1480453, 3997346, 1623417, 4114070], [9770, 1844797, 338784, 1935796], [202829, 2427690, 338784, 1935796], [3051096, 3631595, 3147080, 4258152], [2111052, 297293, 1552534, -431081], [864326, 2053355, 925348, 2000000], [2422495, 2130146, 2595700, 2684432], [3655670, 100751, 3778277, 740547], [535656, 2133259, 338784, 1935796], [263229, 2101270, 338784, 1935796]]\n",
      "Part One: 4793062\n"
     ]
    }
   ],
   "source": [
    "import re\n",
    "\n",
    "with open(\"inputs/input15.txt\") as input:\n",
    "    lines = [[int(d) for d in re.findall(r\"-?\\d+\", line)] for line in input.read().splitlines()]\n",
    "\n",
    "manhattans = []\n",
    "\n",
    "for line in lines:\n",
    "    manhattans.append(abs(line[0] - line[2]) + abs(line[1] - line[3]))\n",
    "\n",
    "beacons = dict()\n",
    "\n",
    "for l in lines:\n",
    "    if l[3] not in beacons:\n",
    "        beacons[l[3]] = {l[2]}\n",
    "    else:\n",
    "        beacons[l[3]].add(l[2])\n",
    "\n",
    "print(lines)\n",
    "\n",
    "def compare_ranges(ranges_in):\n",
    "    ranges_in.sort()\n",
    "    total_occ = ranges_in[0][1] - ranges_in[0][0]\n",
    "    continuous = [list(ranges_in[0])]\n",
    "    for r in ranges_in[1:]:\n",
    "        if r[0] <= continuous[-1][1]:\n",
    "            if r[1] > continuous[-1][1]:\n",
    "                total_occ += r[1] - continuous[-1][1]\n",
    "                continuous[-1][1] = r[1]\n",
    "        else:\n",
    "            continuous.append(list(r))\n",
    "            total_occ += (r[1] - r[0])\n",
    "    return total_occ\n",
    "\n",
    "def solution1(row):\n",
    "    ranges = []\n",
    "    for i in range(len(lines)):\n",
    "        min_y = lines[i][1] - manhattans[i]\n",
    "        max_y = lines[i][1] + manhattans[i]\n",
    "        if min_y <= row and max_y >= row:\n",
    "            x_dist = manhattans[i] - abs(lines[i][1] - row)\n",
    "            l = lines[i][0] - x_dist\n",
    "            r = lines[i][0] + x_dist + 1\n",
    "            ranges.append((l,r))\n",
    "    occupied = compare_ranges(ranges)\n",
    "\n",
    "    if row in beacons:\n",
    "        occupied -= len(beacons[row])\n",
    "\n",
    "    return occupied\n",
    "\n",
    "print(\"Part One:\", solution1(2000000))"
   ]
  },
  {
   "attachments": {},
   "cell_type": "markdown",
   "metadata": {},
   "source": [
    "Part 2 (slow)"
   ]
  },
  {
   "cell_type": "code",
   "execution_count": 19,
   "metadata": {},
   "outputs": [
    {
     "name": "stdout",
     "output_type": "stream",
     "text": [
      "Part Two: 10826395253551\n",
      "Wall time: 38 s\n"
     ]
    }
   ],
   "source": [
    "%%time\n",
    "def compare_x_ranges(ranges_in):\n",
    "    ranges_in.sort()\n",
    "    continuous = list(ranges_in[0])\n",
    "    for r in ranges_in[1:]:\n",
    "        if r[0] <= continuous[1]:\n",
    "            if r[1] > continuous[1]:\n",
    "                continuous[1] = r[1]\n",
    "        else:\n",
    "            return continuous[1]\n",
    "    return False\n",
    "\n",
    "range_starts = dict()\n",
    "range_ends = dict()\n",
    "\n",
    "for i in range(len(lines)):\n",
    "    min_y = lines[i][1] - manhattans[i]\n",
    "    range_starts[min_y] = i\n",
    "    max_y = lines[i][1] + manhattans[i]\n",
    "    range_ends[max_y+1] = i\n",
    "\n",
    "ranges_to_check = set()\n",
    "\n",
    "for k,v in range_starts.items():\n",
    "    if k <= 0:\n",
    "        ranges_to_check.add(v)\n",
    "\n",
    "for k,v in range_ends.items():\n",
    "    if k <= 0:\n",
    "        ranges_to_check.remove(v)\n",
    "\n",
    "for y in range(4000001):\n",
    "    if y in range_starts:\n",
    "        ranges_to_check.add(range_starts[y])\n",
    "    if y in range_ends:\n",
    "        ranges_to_check.remove(range_ends[y])\n",
    "    x_ranges = []\n",
    "    for n in ranges_to_check:\n",
    "        x_dist = manhattans[n] - abs(lines[n][1] - y)\n",
    "        l = lines[n][0] - x_dist\n",
    "        r = lines[n][0] + x_dist + 1\n",
    "        x_ranges.append((l,r))\n",
    "\n",
    "    if x := compare_x_ranges(x_ranges):\n",
    "        print(\"Part Two:\", x * 4000000 + y)\n",
    "        break"
   ]
  },
  {
   "attachments": {},
   "cell_type": "markdown",
   "metadata": {},
   "source": [
    "Part 2 (much faster)"
   ]
  },
  {
   "cell_type": "code",
   "execution_count": 17,
   "metadata": {},
   "outputs": [
    {
     "name": "stdout",
     "output_type": "stream",
     "text": [
      "Part Two: 10826395253551\n",
      "Wall time: 162 ms\n"
     ]
    }
   ],
   "source": [
    "%%time\n",
    "from itertools import combinations\n",
    "\n",
    "four_combs = combinations(range(len(lines)), 4)\n",
    "\n",
    "manhattan_pairs = dict()\n",
    "distances = dict()\n",
    "\n",
    "for i in range(len(lines)-1):\n",
    "    for j in range(i+1, len(lines)):\n",
    "        manhattan_pairs[(i,j)] = manhattans[i]+manhattans[j] + 2\n",
    "        distances[(i,j)] = abs(lines[i][0] - lines[j][0]) + abs(lines[i][1] - lines[j][1])\n",
    "\n",
    "def find_line(i, ii):\n",
    "    x1, y1 = lines[i][:2]\n",
    "    x2, y2 = lines[ii][:2]\n",
    "    if x1 < x2:\n",
    "        if y1 < y2:\n",
    "            return (x1, y1 + manhattans[i] + 1), (x1 + manhattans[i] + 1, y1)\n",
    "        else:\n",
    "            return (x1 + manhattans[i] + 1, y1), (x1, y1 - manhattans[i] - 1)\n",
    "    else:\n",
    "        if y1 > y2:\n",
    "            return (x1, y1 - manhattans[i] - 1), (x1 - manhattans[i] - 1, y1)\n",
    "        else:\n",
    "            return (x1 - manhattans[i] - 1, y1), (x1, y1 + manhattans[i] + 1)\n",
    "\n",
    "def line_intersection(line1, line2):\n",
    "    xdiff = (line1[0][0] - line1[1][0], line2[0][0] - line2[1][0])\n",
    "    ydiff = (line1[0][1] - line1[1][1], line2[0][1] - line2[1][1])\n",
    "\n",
    "    def det(a, b):\n",
    "        return a[0] * b[1] - a[1] * b[0]\n",
    "\n",
    "    div = det(xdiff, ydiff)\n",
    "\n",
    "    d = (det(*line1), det(*line2))\n",
    "    x = det(d, xdiff) // div\n",
    "    y = det(d, ydiff) // div\n",
    "    return x, y\n",
    "\n",
    "\n",
    "for comb in four_combs:\n",
    "    for a,b,c,d in [[0,1,2,3], [0,2,1,3], [0,3,1,2]]:\n",
    "        if manhattan_pairs[(comb[a],comb[b])] == distances[(comb[a],comb[b])]:\n",
    "            if manhattan_pairs[(comb[c],comb[d])] == distances[(comb[c],comb[d])]:\n",
    "                l1 = find_line(comb[a],comb[b])\n",
    "                l2 = find_line(comb[c],comb[d])\n",
    "                x, y = line_intersection(l1, l2)\n",
    "                print(\"Part Two:\", x * 4000000 + y)\n",
    "                break"
   ]
  }
 ],
 "metadata": {
  "kernelspec": {
   "display_name": "Python 3.10.7 64-bit",
   "language": "python",
   "name": "python3"
  },
  "language_info": {
   "codemirror_mode": {
    "name": "ipython",
    "version": 3
   },
   "file_extension": ".py",
   "mimetype": "text/x-python",
   "name": "python",
   "nbconvert_exporter": "python",
   "pygments_lexer": "ipython3",
   "version": "3.10.7"
  },
  "orig_nbformat": 4,
  "vscode": {
   "interpreter": {
    "hash": "35d7e08f1f98ee58e9edced7a1043a5fc18613eb6991aa1cd3ec2f710d69752e"
   }
  }
 },
 "nbformat": 4,
 "nbformat_minor": 2
}
