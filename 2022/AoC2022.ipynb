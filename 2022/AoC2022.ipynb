{
 "cells": [
  {
   "cell_type": "markdown",
   "metadata": {},
   "source": [
    "**Day 1**"
   ]
  },
  {
   "cell_type": "code",
   "execution_count": 1,
   "metadata": {},
   "outputs": [
    {
     "name": "stdout",
     "output_type": "stream",
     "text": [
      "Part One: 71300\n",
      "Part Two: 209691\n"
     ]
    }
   ],
   "source": [
    "elves = []\n",
    "\n",
    "with open(\"inputs/input1.txt\") as file:\n",
    "    lines = file.read().splitlines()\n",
    "    elf = 0\n",
    "    for line in lines:\n",
    "        if line:\n",
    "            elf += int(line)\n",
    "        else:\n",
    "            elves.append(elf)\n",
    "            elf = 0\n",
    "\n",
    "elves.sort()\n",
    "\n",
    "print(\"Part One:\", elves[-1])\n",
    "print(\"Part Two:\", sum(elves[-3:]))\n"
   ]
  },
  {
   "cell_type": "markdown",
   "metadata": {},
   "source": [
    "**Day 2**"
   ]
  },
  {
   "cell_type": "code",
   "execution_count": 7,
   "metadata": {},
   "outputs": [
    {
     "name": "stdout",
     "output_type": "stream",
     "text": [
      "Part One: 14069\n",
      "Part One: 12411\n"
     ]
    }
   ],
   "source": [
    "dic = {\n",
    "    \"A\" : {\n",
    "        \"X\":3,\n",
    "        \"Y\":6,\n",
    "        \"Z\":0,\n",
    "    },\n",
    "    \"B\" : {\n",
    "        \"X\":0,\n",
    "        \"Y\":3,\n",
    "        \"Z\":6,\n",
    "    },\n",
    "    \"C\" : {\n",
    "        \"X\":6,\n",
    "        \"Y\":0,\n",
    "        \"Z\":3,\n",
    "    }\n",
    "}\n",
    "\n",
    "shapes = {\n",
    "    \"X\":1,\n",
    "    \"Y\":2,\n",
    "    \"Z\":3,\n",
    "}\n",
    "\n",
    "dic2 = {\n",
    "    \"A\" : {\n",
    "        \"X\":\"Z\",\n",
    "        \"Y\":\"X\",\n",
    "        \"Z\":\"Y\",\n",
    "    },\n",
    "    \"B\" : {\n",
    "        \"X\":\"X\",\n",
    "        \"Y\":\"Y\",\n",
    "        \"Z\":\"Z\",\n",
    "    },\n",
    "    \"C\" : {\n",
    "        \"X\":\"Y\",\n",
    "        \"Y\":\"Z\",\n",
    "        \"Z\":\"X\",\n",
    "    }\n",
    "}\n",
    "\n",
    "points = {\n",
    "    \"X\":0,\n",
    "    \"Y\":3,\n",
    "    \"Z\":6,\n",
    "}\n",
    "\n",
    "with open(\"inputs/input2.txt\") as input:\n",
    "    lines = [s.split(\" \") for s in input.read().splitlines()]\n",
    "\n",
    "out1 = 0\n",
    "\n",
    "for l in lines:\n",
    "    out1 += dic[l[0]][l[1]]\n",
    "    out1 += shapes[l[1]]\n",
    "\n",
    "print(\"Part One:\", out1)\n",
    "\n",
    "out2 = 0\n",
    "\n",
    "for l in lines:\n",
    "    out2 += shapes[ dic2[l[0]][l[1]] ]\n",
    "    out2 += points[l[1]]\n",
    "\n",
    "print(\"Part One:\", out2)"
   ]
  },
  {
   "cell_type": "markdown",
   "metadata": {},
   "source": [
    "**Day 3**"
   ]
  },
  {
   "cell_type": "code",
   "execution_count": 20,
   "metadata": {},
   "outputs": [
    {
     "name": "stdout",
     "output_type": "stream",
     "text": [
      "Part One: 7845\n",
      "Part Two: 2790\n"
     ]
    }
   ],
   "source": [
    "priorities = dict(zip([chr(x) for x in range(97, 123)], range(1, 27)))\n",
    "priorities.update(dict(zip([chr(x) for x in range(65, 91)], range(27, 53))))\n",
    "\n",
    "with open(\"inputs/input3.txt\") as input:\n",
    "    lines = input.read().splitlines()\n",
    "\n",
    "rucksacks = []\n",
    "\n",
    "for l in lines:\n",
    "    m = len(l)//2\n",
    "    rucksacks.append([set(l[:m]), set(l[m:])])\n",
    "\n",
    "out1 = 0\n",
    "\n",
    "for r in rucksacks:\n",
    "    shared = r[0] & r[1]\n",
    "    for s in shared:\n",
    "        out1 += priorities[s]\n",
    "\n",
    "print(\"Part One:\", out1)\n",
    "\n",
    "out2 = 0\n",
    "\n",
    "for i in range(2, len(lines), 3):\n",
    "    shared = set(lines[i-2]) & set(lines[i-1]) & set(lines[i])\n",
    "    for s in shared:\n",
    "        out2 += priorities[s]\n",
    "\n",
    "print(\"Part Two:\", out2)"
   ]
  }
 ],
 "metadata": {
  "kernelspec": {
   "display_name": "Python 3.10.7 64-bit",
   "language": "python",
   "name": "python3"
  },
  "language_info": {
   "codemirror_mode": {
    "name": "ipython",
    "version": 3
   },
   "file_extension": ".py",
   "mimetype": "text/x-python",
   "name": "python",
   "nbconvert_exporter": "python",
   "pygments_lexer": "ipython3",
   "version": "3.10.7"
  },
  "orig_nbformat": 4,
  "vscode": {
   "interpreter": {
    "hash": "35d7e08f1f98ee58e9edced7a1043a5fc18613eb6991aa1cd3ec2f710d69752e"
   }
  }
 },
 "nbformat": 4,
 "nbformat_minor": 2
}
