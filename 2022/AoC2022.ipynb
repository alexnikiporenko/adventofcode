{
 "cells": [
  {
   "cell_type": "markdown",
   "metadata": {},
   "source": [
    "**Day 1**"
   ]
  },
  {
   "cell_type": "code",
   "execution_count": 25,
   "metadata": {},
   "outputs": [
    {
     "name": "stdout",
     "output_type": "stream",
     "text": [
      "Part One: 71300\n",
      "Part Two: 209691\n"
     ]
    }
   ],
   "source": [
    "elves = []\n",
    "\n",
    "with open(\"inputs/input1.txt\") as file:\n",
    "    lines = file.read().splitlines()\n",
    "    elf = 0\n",
    "    for line in lines:\n",
    "        if line:\n",
    "            elf += int(line)\n",
    "        else:\n",
    "            elves.append(elf)\n",
    "            elf = 0\n",
    "\n",
    "elves.sort()\n",
    "\n",
    "print(\"Part One:\", elves[-1])\n",
    "print(\"Part Two:\", sum(elves[-3:]))\n"
   ]
  },
  {
   "cell_type": "markdown",
   "metadata": {},
   "source": [
    "**Day 2**"
   ]
  },
  {
   "cell_type": "code",
   "execution_count": 26,
   "metadata": {},
   "outputs": [
    {
     "name": "stdout",
     "output_type": "stream",
     "text": [
      "Part One: 14069\n",
      "Part One: 12411\n"
     ]
    }
   ],
   "source": [
    "dic = {\n",
    "    \"A\" : {\n",
    "        \"X\":3,\n",
    "        \"Y\":6,\n",
    "        \"Z\":0,\n",
    "    },\n",
    "    \"B\" : {\n",
    "        \"X\":0,\n",
    "        \"Y\":3,\n",
    "        \"Z\":6,\n",
    "    },\n",
    "    \"C\" : {\n",
    "        \"X\":6,\n",
    "        \"Y\":0,\n",
    "        \"Z\":3,\n",
    "    }\n",
    "}\n",
    "\n",
    "shapes = {\n",
    "    \"X\":1,\n",
    "    \"Y\":2,\n",
    "    \"Z\":3,\n",
    "}\n",
    "\n",
    "dic2 = {\n",
    "    \"A\" : {\n",
    "        \"X\":\"Z\",\n",
    "        \"Y\":\"X\",\n",
    "        \"Z\":\"Y\",\n",
    "    },\n",
    "    \"B\" : {\n",
    "        \"X\":\"X\",\n",
    "        \"Y\":\"Y\",\n",
    "        \"Z\":\"Z\",\n",
    "    },\n",
    "    \"C\" : {\n",
    "        \"X\":\"Y\",\n",
    "        \"Y\":\"Z\",\n",
    "        \"Z\":\"X\",\n",
    "    }\n",
    "}\n",
    "\n",
    "points = {\n",
    "    \"X\":0,\n",
    "    \"Y\":3,\n",
    "    \"Z\":6,\n",
    "}\n",
    "\n",
    "with open(\"inputs/input2.txt\") as input:\n",
    "    lines = [s.split(\" \") for s in input.read().splitlines()]\n",
    "\n",
    "out1 = 0\n",
    "\n",
    "for l in lines:\n",
    "    out1 += dic[l[0]][l[1]]\n",
    "    out1 += shapes[l[1]]\n",
    "\n",
    "print(\"Part One:\", out1)\n",
    "\n",
    "out2 = 0\n",
    "\n",
    "for l in lines:\n",
    "    out2 += shapes[ dic2[l[0]][l[1]] ]\n",
    "    out2 += points[l[1]]\n",
    "\n",
    "print(\"Part One:\", out2)"
   ]
  },
  {
   "cell_type": "markdown",
   "metadata": {},
   "source": [
    "**Day 3**"
   ]
  },
  {
   "cell_type": "code",
   "execution_count": 27,
   "metadata": {},
   "outputs": [
    {
     "name": "stdout",
     "output_type": "stream",
     "text": [
      "Part One: 7845\n",
      "Part Two: 2790\n"
     ]
    }
   ],
   "source": [
    "priorities = dict(zip([chr(x) for x in range(97, 123)], range(1, 27)))\n",
    "priorities.update(dict(zip([chr(x) for x in range(65, 91)], range(27, 53))))\n",
    "\n",
    "with open(\"inputs/input3.txt\") as input:\n",
    "    lines = input.read().splitlines()\n",
    "\n",
    "rucksacks = []\n",
    "\n",
    "for l in lines:\n",
    "    m = len(l)//2\n",
    "    rucksacks.append([set(l[:m]), set(l[m:])])\n",
    "\n",
    "out1 = 0\n",
    "\n",
    "for r in rucksacks:\n",
    "    shared = r[0] & r[1]\n",
    "    for s in shared:\n",
    "        out1 += priorities[s]\n",
    "\n",
    "print(\"Part One:\", out1)\n",
    "\n",
    "out2 = 0\n",
    "\n",
    "for i in range(2, len(lines), 3):\n",
    "    shared = set(lines[i-2]) & set(lines[i-1]) & set(lines[i])\n",
    "    for s in shared:\n",
    "        out2 += priorities[s]\n",
    "\n",
    "print(\"Part Two:\", out2)"
   ]
  },
  {
   "cell_type": "markdown",
   "metadata": {},
   "source": [
    "**Day 4**"
   ]
  },
  {
   "cell_type": "code",
   "execution_count": 28,
   "metadata": {},
   "outputs": [
    {
     "name": "stdout",
     "output_type": "stream",
     "text": [
      "Part One: 471\n",
      "Part Two: 888\n"
     ]
    }
   ],
   "source": [
    "out1 = 0\n",
    "out2 = 0\n",
    "\n",
    "with open(\"inputs/input4.txt\") as input:\n",
    "    lines = [[y.split(\"-\") for y in x.split(\",\")] for x in input.read().splitlines()]\n",
    "\n",
    "for elf1, elf2 in lines:\n",
    "    a = set(range(int(elf1[0]), int(elf1[1])+1))\n",
    "    b = set(range(int(elf2[0]), int(elf2[1])+1))\n",
    "\n",
    "    c = a & b\n",
    "\n",
    "    if c:\n",
    "        out2 += 1\n",
    "\n",
    "        if c == a or c == b:\n",
    "            out1 += 1\n",
    "\n",
    "\n",
    "print(\"Part One:\", out1)\n",
    "print(\"Part Two:\", out2)"
   ]
  },
  {
   "cell_type": "markdown",
   "metadata": {},
   "source": [
    "**Day 5**"
   ]
  },
  {
   "cell_type": "code",
   "execution_count": 29,
   "metadata": {},
   "outputs": [
    {
     "name": "stdout",
     "output_type": "stream",
     "text": [
      "Part One: FWNSHLDNZ\n",
      "Part Two: RNRGDNFQG\n"
     ]
    }
   ],
   "source": [
    "from collections import deque\n",
    "import copy\n",
    "\n",
    "with open(\"inputs/input5.txt\") as input:\n",
    "    lines = input.read().splitlines()\n",
    "\n",
    "num_stacks = (len(lines[0]) + 1) // 4\n",
    "\n",
    "stacks = {x:deque() for x in range(1, num_stacks+1)}\n",
    "\n",
    "moves_from = 0\n",
    "\n",
    "for i in range(len(lines)):\n",
    "    if lines[i][1] == \"1\":\n",
    "        moves_from = i + 2\n",
    "        break\n",
    "    else:\n",
    "        for c in range(1, len(lines[0]), 4):\n",
    "            if lines[i][c].isalpha():\n",
    "                stacks[(c//4)+1].appendleft(lines[i][c])\n",
    "\n",
    "stacks2 = copy.deepcopy(stacks)\n",
    "\n",
    "for line in lines[moves_from:]:\n",
    "    commands = line.split(\" \")\n",
    "    for _ in range(int(commands[1])):\n",
    "        crate = stacks[int(commands[3])].pop()\n",
    "        stacks[int(commands[5])].append(crate)\n",
    "\n",
    "out1 = \"\".join([s[-1] for s in stacks.values()])\n",
    "\n",
    "print(\"Part One:\", out1)\n",
    "\n",
    "for line in lines[moves_from:]:\n",
    "    commands = line.split(\" \")\n",
    "    crates = deque()\n",
    "    for _ in range(int(commands[1])):\n",
    "        crate = stacks2[int(commands[3])].pop()\n",
    "        crates.appendleft(crate)\n",
    "    stacks2[int(commands[5])].extend(crates)\n",
    "\n",
    "out2 = \"\".join([s[-1] for s in stacks2.values()])\n",
    "\n",
    "print(\"Part Two:\", out2)"
   ]
  },
  {
   "cell_type": "markdown",
   "metadata": {},
   "source": [
    "**Day 6**"
   ]
  },
  {
   "cell_type": "code",
   "execution_count": 2,
   "metadata": {},
   "outputs": [
    {
     "name": "stdout",
     "output_type": "stream",
     "text": [
      "Part One: 1361\n",
      "Part Two: 3263\n"
     ]
    }
   ],
   "source": [
    "with open(\"inputs/input6.txt\") as input:\n",
    "    line = input.read().strip()\n",
    "\n",
    "def solution(n):\n",
    "    for i in range(n, len(line)+1):\n",
    "        if len(set(line[i-n:i])) == n:\n",
    "            return(i)\n",
    "\n",
    "print(\"Part One:\", solution(4))\n",
    "print(\"Part Two:\", solution(14))"
   ]
  },
  {
   "cell_type": "markdown",
   "metadata": {},
   "source": [
    "**Day 7**"
   ]
  },
  {
   "cell_type": "code",
   "execution_count": 31,
   "metadata": {},
   "outputs": [
    {
     "name": "stdout",
     "output_type": "stream",
     "text": [
      "Part One: 1350966\n",
      "Part Two: 6296435\n"
     ]
    }
   ],
   "source": [
    "with open(\"inputs/input7.txt\") as input:\n",
    "    lines = [line.split(\" \") for line in input.read().splitlines()]\n",
    "\n",
    "class Directory:\n",
    "    def __init__(self, name, parent):\n",
    "        self.children = dict()\n",
    "        self.name = name\n",
    "        self.parent = parent\n",
    "        self.size = 0\n",
    "\n",
    "    def add_file(self, file_size):\n",
    "        to_update = self\n",
    "        while to_update:\n",
    "            to_update.size += int(file_size)\n",
    "            to_update = to_update.parent\n",
    "\n",
    "    def add_child(self, child_name):\n",
    "        d = Directory(child_name, self)\n",
    "        self.children[child_name] = d  \n",
    "\n",
    "root = Directory(\"root\", None)\n",
    "current_dir = root\n",
    "\n",
    "for l in lines[1:]:\n",
    "    if l[0] == \"dir\":\n",
    "        current_dir.add_child(l[1])\n",
    "    elif l[0].isnumeric():\n",
    "        current_dir.add_file(l[0])\n",
    "    elif l[1] == \"cd\":\n",
    "        if l[2] == \"..\":\n",
    "            current_dir = current_dir.parent\n",
    "        else:\n",
    "            current_dir = current_dir.children[l[2]]\n",
    "\n",
    "out1 = 0\n",
    "\n",
    "stack = [root]\n",
    "while stack:\n",
    "    node = stack.pop()\n",
    "    if node.size <= 100000:\n",
    "        out1 += node.size\n",
    "    stack.extend(node.children.values())\n",
    "\n",
    "print(\"Part One:\", out1)\n",
    "\n",
    "out2 = 70000000\n",
    "\n",
    "min_to_delete = 30000000 - (70000000 - root.size)\n",
    "\n",
    "stack = [root]\n",
    "while stack:\n",
    "    node = stack.pop()\n",
    "    if node.size > min_to_delete:\n",
    "        out2 = min(out2, node.size)\n",
    "        stack.extend(node.children.values())\n",
    "\n",
    "print(\"Part Two:\", out2)"
   ]
  },
  {
   "cell_type": "markdown",
   "metadata": {},
   "source": [
    "**Day 8**"
   ]
  },
  {
   "cell_type": "code",
   "execution_count": 32,
   "metadata": {},
   "outputs": [
    {
     "name": "stdout",
     "output_type": "stream",
     "text": [
      "Part One: 1843\n",
      "Part Two: 180000\n"
     ]
    }
   ],
   "source": [
    "with open(\"inputs/input8.txt\") as input:\n",
    "    grid = [list(map(int, list(line))) for line in input.read().splitlines()]\n",
    "\n",
    "height = len(grid)\n",
    "width = len(grid[0])\n",
    "\n",
    "seen = set()\n",
    "\n",
    "for row in range(1,height-1):\n",
    "    highest = grid[row][0]\n",
    "    for r in range(1,width-1):\n",
    "        if grid[row][r] > highest:\n",
    "            seen.add((row,r))\n",
    "            highest = grid[row][r]\n",
    "            if highest == 9:\n",
    "                break\n",
    "    highest = grid[row][width-1]\n",
    "    for l in range(width-2,0,-1):\n",
    "        if grid[row][l] > highest:\n",
    "            seen.add((row,l))\n",
    "            highest = grid[row][l]\n",
    "            if highest == 9:\n",
    "                break\n",
    "for col in range(1,width-1):\n",
    "    highest = grid[0][col]\n",
    "    for d in range(1,height-1):\n",
    "        if grid[d][col] > highest:\n",
    "            seen.add((d,col))\n",
    "            highest = grid[d][col]\n",
    "            if highest == 9:\n",
    "                break\n",
    "    highest = grid[height-1][col]\n",
    "    for u in range(height-2,0,-1):\n",
    "        if grid[u][col] > highest:\n",
    "            seen.add((u,col))\n",
    "            highest = grid[u][col]\n",
    "            if highest == 9:\n",
    "                break\n",
    "\n",
    "out1 = len(seen) + (height-1)*2 + (width-1)*2\n",
    "\n",
    "print(\"Part One:\", out1)\n",
    "\n",
    "max_visibility = 0\n",
    "\n",
    "for row in range(1,height-1):\n",
    "    for col in range(1,width-1):\n",
    "        right = 0\n",
    "        for r in range(col+1, width):\n",
    "            right += 1\n",
    "            if grid[row][r] >= grid[row][col]:\n",
    "                break\n",
    "        left = 0\n",
    "        for l in range(col-1, -1, -1):\n",
    "            left += 1\n",
    "            if grid[row][l] >= grid[row][col]:\n",
    "                break         \n",
    "        down = 0\n",
    "        for d in range(row+1, height):\n",
    "            down += 1\n",
    "            if grid[d][col] >= grid[row][col]:\n",
    "                break\n",
    "        up = 0\n",
    "        for u in range(row-1, -1, -1):\n",
    "            up += 1\n",
    "            if grid[u][col] >= grid[row][col]:\n",
    "                break  \n",
    "        max_visibility = max(max_visibility, (right*left*up*down))\n",
    "\n",
    "print(\"Part Two:\", max_visibility)"
   ]
  },
  {
   "attachments": {},
   "cell_type": "markdown",
   "metadata": {},
   "source": [
    "**Day 9**"
   ]
  },
  {
   "cell_type": "code",
   "execution_count": 7,
   "metadata": {},
   "outputs": [
    {
     "name": "stdout",
     "output_type": "stream",
     "text": [
      "Part One: 6486\n",
      "Part Two: 2678\n"
     ]
    }
   ],
   "source": [
    "with open(\"inputs/input9.txt\") as input:\n",
    "    lines = [line.split(\" \") for line in input.read().splitlines()]\n",
    "\n",
    "moves = {\n",
    "    \"R\":[0,1],\n",
    "    \"L\":[0,-1],\n",
    "    \"D\":[1,0],\n",
    "    \"U\":[-1,0]\n",
    "}\n",
    "\n",
    "def solution(length):\n",
    "    visited = {(0,0)}\n",
    "\n",
    "    knots = [[0,0] for _ in range(length)]\n",
    "\n",
    "    for l in lines:\n",
    "        for _ in range(int(l[1])):\n",
    "            knots[0] = [x + y for x, y in zip(knots[0], moves[l[0]])]\n",
    "            for i in range(1, length):\n",
    "                if abs(knots[i-1][0] - knots[i][0]) > 1 or abs(knots[i-1][1] - knots[i][1]) > 1:\n",
    "                    for p in [0, 1]:\n",
    "                        if abs(knots[i-1][p] - knots[i][p]) == 1:\n",
    "                            knots[i][p] = knots[i-1][p]\n",
    "                        elif abs(knots[i-1][p] - knots[i][p]) == 2:\n",
    "                            knots[i][p] = (knots[i][p] + knots[i-1][p])//2\n",
    "            visited.add(tuple(knots[-1]))\n",
    "    return len(visited)\n",
    "\n",
    "print(\"Part One:\", solution(2))\n",
    "print(\"Part Two:\", solution(10))"
   ]
  },
  {
   "attachments": {},
   "cell_type": "markdown",
   "metadata": {},
   "source": [
    "**Day 10**"
   ]
  },
  {
   "cell_type": "code",
   "execution_count": 54,
   "metadata": {},
   "outputs": [
    {
     "name": "stdout",
     "output_type": "stream",
     "text": [
      "Part One: 13060\n",
      "Part Two:\n",
      "\n",
      "# # # # . . . # # . # . . # . # # # . . # . . # . # . . . . # # # . . # # # # . \n",
      "# . . . . . . . # . # . . # . # . . # . # . . # . # . . . . # . . # . . . . # . \n",
      "# # # . . . . . # . # . . # . # # # . . # . . # . # . . . . # . . # . . . # . . \n",
      "# . . . . . . . # . # . . # . # . . # . # . . # . # . . . . # # # . . . # . . . \n",
      "# . . . . # . . # . # . . # . # . . # . # . . # . # . . . . # . # . . # . . . . \n",
      "# . . . . . # # . . . # # . . # # # . . . # # . . # # # # . # . . # . # # # # . \n"
     ]
    }
   ],
   "source": [
    "with open(\"inputs/input10.txt\") as input:\n",
    "    lines = [line.split(\" \") for line in input.read().splitlines()]\n",
    "\n",
    "Xs = [1]\n",
    "\n",
    "for l in lines:\n",
    "    Xs.append(Xs[-1])\n",
    "    if l[0] == \"addx\":\n",
    "        Xs.append(Xs[-1] + int(l[1]))\n",
    "\n",
    "def sig(c):\n",
    "    return Xs[c-1] * c\n",
    "\n",
    "print(\"Part One:\", sum([sig(x) for x in range(20, 221, 40)]))\n",
    "\n",
    "s = \"\"\n",
    "for i in range(240):\n",
    "    if i % 40 == 0:\n",
    "        s += \"\\n\"\n",
    "    if abs(i%40 - Xs[i]) <= 1:\n",
    "        s += \"# \"\n",
    "    else:\n",
    "        s += \". \"\n",
    "\n",
    "print(\"Part Two:\")\n",
    "print(s)"
   ]
  },
  {
   "attachments": {},
   "cell_type": "markdown",
   "metadata": {},
   "source": [
    "**Day 11**"
   ]
  },
  {
   "cell_type": "code",
   "execution_count": 5,
   "metadata": {},
   "outputs": [
    {
     "name": "stdout",
     "output_type": "stream",
     "text": [
      "Part 1: 58056\n",
      "Part 2: 15048718170\n"
     ]
    }
   ],
   "source": [
    "from collections import deque\n",
    "from functools import reduce\n",
    "\n",
    "def solution(part):\n",
    "    with open(\"inputs/input11.txt\") as input:\n",
    "        monkeys = [[l.replace(\",\", \"\").split() for l in m.splitlines()] for m in input.read().split(\"\\n\\n\")]\n",
    "\n",
    "    counters = [0 for _ in range(len(monkeys))]\n",
    "\n",
    "    divisor = reduce(lambda x,y: x*y, [int(m[3][-1]) for m in monkeys])\n",
    "\n",
    "    for m in monkeys:\n",
    "        m[1] = deque([int(n) for n in m[1][2:]])\n",
    "        for i in range(len(m[1])):\n",
    "            m[1][i] = m[1][i] % divisor\n",
    "\n",
    "    rounds = 20 if part == 1 else 10000\n",
    "\n",
    "    for _ in range(rounds):\n",
    "        for i in range(len(monkeys)):\n",
    "            while monkeys[i][1]:\n",
    "                counters[i] += 1\n",
    "                old = monkeys[i][1].popleft()\n",
    "                if part == 1:\n",
    "                    old = ( (eval(\" \".join(monkeys[i][2][-3:]))) //3) % divisor\n",
    "                else:\n",
    "                    old = ( (eval(\" \".join(monkeys[i][2][-3:])))) % divisor\n",
    "                if old % int(monkeys[i][3][-1]) == 0:\n",
    "                    monkeys[int(monkeys[i][4][-1])][1].append(old)\n",
    "                else:\n",
    "                    monkeys[int(monkeys[i][5][-1])][1].append(old)\n",
    "\n",
    "    counters.sort()\n",
    "\n",
    "    print(f\"Part {part}:\", counters[-1] * counters[-2])\n",
    "\n",
    "solution(1)\n",
    "solution(2)"
   ]
  },
  {
   "attachments": {},
   "cell_type": "markdown",
   "metadata": {},
   "source": [
    "**Day 12**"
   ]
  },
  {
   "cell_type": "code",
   "execution_count": 57,
   "metadata": {},
   "outputs": [
    {
     "name": "stdout",
     "output_type": "stream",
     "text": [
      "Part 1: 412\n",
      "Part 2: 402\n"
     ]
    }
   ],
   "source": [
    "# Dijkstra\n",
    "def solution(part):\n",
    "\n",
    "    with open(\"inputs/input12.txt\") as input:\n",
    "        grid = [list(map(ord, list(line))) for line in input.read().splitlines()]\n",
    "\n",
    "    height = len(grid)\n",
    "    width = len(grid[0])\n",
    "\n",
    "    visited = [[False for c in range(width)] for r in range(height)]\n",
    "    distances = [[float(\"inf\") for c in range(width)] for r in range(height)]\n",
    "\n",
    "    goals = set()\n",
    "\n",
    "    for r in range(height):\n",
    "        for c in range(width):\n",
    "            if part == 1:\n",
    "                if grid[r][c] == ord(\"S\"):\n",
    "                    start = (r,c)\n",
    "                    distances[r][c] = 0\n",
    "                    grid[r][c] = ord(\"a\")\n",
    "                elif grid[r][c] == ord(\"E\"):\n",
    "                    goal = (r,c)\n",
    "                    grid[r][c] = ord(\"z\")\n",
    "            else:\n",
    "                if grid[r][c] == ord(\"E\"):\n",
    "                    start = (r,c)\n",
    "                    distances[r][c] = 0\n",
    "                    grid[r][c] = ord(\"z\")\n",
    "                elif grid[r][c] in [ord(\"S\"), ord(\"a\")]:\n",
    "                    goals.add((r,c))\n",
    "                    grid[r][c] = ord(\"a\")\n",
    "\n",
    "    to_visit = {\n",
    "            start : 0\n",
    "        }\n",
    "\n",
    "    while to_visit:\n",
    "        r, c = min(to_visit, key=to_visit.get)\n",
    "        del to_visit[(r,c)]\n",
    "        visited[r][c] = True\n",
    "\n",
    "        if part == 1:\n",
    "            if (r,c) == goal:\n",
    "                break\n",
    "        else:\n",
    "            if (r,c) in goals:\n",
    "                break            \n",
    "        neighbours = [(r-1, c), (r+1, c), (r, c-1), (r, c+1)]\n",
    "        for nr, nc in neighbours:\n",
    "            if 0 <= nr < height and 0 <= nc < width and not visited[nr][nc]:\n",
    "                if (part == 1 and grid[nr][nc] <= grid[r][c]+1) or (part == 2 and grid[nr][nc] >= grid[r][c]-1):\n",
    "                    temp_dist = distances[r][c] + 1\n",
    "                    if temp_dist < distances[nr][nc]:\n",
    "                        distances[nr][nc] = temp_dist\n",
    "                        to_visit[(nr,nc)] = temp_dist\n",
    "\n",
    "    print(f\"Part {part}:\", distances[r][c])\n",
    "\n",
    "solution(1)\n",
    "solution(2)"
   ]
  },
  {
   "attachments": {},
   "cell_type": "markdown",
   "metadata": {},
   "source": [
    "**Day 13**"
   ]
  },
  {
   "cell_type": "code",
   "execution_count": 2,
   "metadata": {},
   "outputs": [
    {
     "name": "stdout",
     "output_type": "stream",
     "text": [
      "Part One: 5003\n",
      "Part Two: 20280\n"
     ]
    }
   ],
   "source": [
    "from collections import deque\n",
    "\n",
    "with open(\"inputs/input13.txt\") as input:\n",
    "    packets = [[eval(l) for l in m.splitlines()] for m in input.read().split(\"\\n\\n\")]\n",
    "\n",
    "right_order = []\n",
    "\n",
    "def is_smaller(i, ii):\n",
    "    left = deque(i+[float(\"-inf\")])\n",
    "    right = deque(ii+[float(\"-inf\")])\n",
    "    while left and right:\n",
    "        l_pack = left.popleft()\n",
    "        r_pack = right.popleft()\n",
    "        if type(l_pack) == list and type(r_pack) == list:\n",
    "            # using sentinels\n",
    "            left.extendleft((l_pack+[float(\"-inf\")])[::-1])\n",
    "            right.extendleft((r_pack+[float(\"-inf\")])[::-1])\n",
    "        elif type(l_pack) == list: \n",
    "            left.appendleft(l_pack)\n",
    "            right.appendleft([r_pack])\n",
    "        elif type(r_pack) == list:\n",
    "            left.appendleft([l_pack])\n",
    "            right.appendleft(r_pack)            \n",
    "        elif l_pack < r_pack:\n",
    "            return True\n",
    "        elif r_pack < l_pack:\n",
    "            return False\n",
    "\n",
    "for i in range(len(packets)):\n",
    "    if is_smaller(packets[i][0], packets[i][1]):\n",
    "        right_order.append(i+1)\n",
    "\n",
    "print(\"Part One:\", sum(right_order)) \n",
    "\n",
    "packets_ord = [[[2]], [[6]]]\n",
    "\n",
    "for p in packets:\n",
    "    packets_ord.extend(p)\n",
    "\n",
    "# https://docs.python.org/3/howto/sorting.html#comparison-functions\n",
    "\n",
    "def compare(x, y):\n",
    "    if is_smaller(x, y):\n",
    "        return -1\n",
    "    elif is_smaller(y, x):\n",
    "        return 1\n",
    "    else:\n",
    "        return 0\n",
    "\n",
    "from functools import cmp_to_key\n",
    "\n",
    "packets_ord.sort(key=cmp_to_key(compare))\n",
    "\n",
    "print(\"Part Two:\", (packets_ord.index([[2]])+1) * (packets_ord.index([[6]])+1)) "
   ]
  }
 ],
 "metadata": {
  "kernelspec": {
   "display_name": "Python 3.10.7 64-bit",
   "language": "python",
   "name": "python3"
  },
  "language_info": {
   "codemirror_mode": {
    "name": "ipython",
    "version": 3
   },
   "file_extension": ".py",
   "mimetype": "text/x-python",
   "name": "python",
   "nbconvert_exporter": "python",
   "pygments_lexer": "ipython3",
   "version": "3.10.7"
  },
  "orig_nbformat": 4,
  "vscode": {
   "interpreter": {
    "hash": "35d7e08f1f98ee58e9edced7a1043a5fc18613eb6991aa1cd3ec2f710d69752e"
   }
  }
 },
 "nbformat": 4,
 "nbformat_minor": 2
}
